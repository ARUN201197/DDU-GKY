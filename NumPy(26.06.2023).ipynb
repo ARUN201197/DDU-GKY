{
 "cells": [
  {
   "cell_type": "markdown",
   "id": "c4778488",
   "metadata": {},
   "source": [
    "# <center>NumPy"
   ]
  },
  {
   "cell_type": "code",
   "execution_count": null,
   "id": "928adf9c",
   "metadata": {},
   "outputs": [],
   "source": [
    " import numpy as np\n",
    "np.set_printoptions(suppress=True)\n",
    "#suppress the exponential values"
   ]
  },
  {
   "cell_type": "markdown",
   "id": "f59d505f",
   "metadata": {},
   "source": [
    "### 1D array"
   ]
  },
  {
   "cell_type": "code",
   "execution_count": 2,
   "id": "5f5bf5da",
   "metadata": {},
   "outputs": [
    {
     "data": {
      "text/plain": [
       "array([10, 20, 30, 50, 60,  0])"
      ]
     },
     "execution_count": 2,
     "metadata": {},
     "output_type": "execute_result"
    }
   ],
   "source": [
    "a = np.array([10,20,30,50,60,0])\n",
    "a"
   ]
  },
  {
   "cell_type": "code",
   "execution_count": 9,
   "id": "d1ec21b9",
   "metadata": {},
   "outputs": [
    {
     "data": {
      "text/plain": [
       "array([ 1,  2,  3,  4,  5,  6,  7, 10, 12, 32,  2,  4,  4,  4,  2])"
      ]
     },
     "execution_count": 9,
     "metadata": {},
     "output_type": "execute_result"
    }
   ],
   "source": [
    "b = np.array([1,2,3,4,5,6,7,10,12,32,2,4,4,4,2])\n",
    "b"
   ]
  },
  {
   "cell_type": "markdown",
   "id": "ff4e10d2",
   "metadata": {},
   "source": [
    "### Attributes of arrays"
   ]
  },
  {
   "cell_type": "markdown",
   "id": "f9521dda",
   "metadata": {},
   "source": [
    "##### dtype"
   ]
  },
  {
   "cell_type": "code",
   "execution_count": 4,
   "id": "ede82bc7",
   "metadata": {},
   "outputs": [
    {
     "data": {
      "text/plain": [
       "dtype('int32')"
      ]
     },
     "execution_count": 4,
     "metadata": {},
     "output_type": "execute_result"
    }
   ],
   "source": [
    "a.dtype"
   ]
  },
  {
   "cell_type": "code",
   "execution_count": 10,
   "id": "d9bcc43a",
   "metadata": {},
   "outputs": [
    {
     "data": {
      "text/plain": [
       "dtype('int32')"
      ]
     },
     "execution_count": 10,
     "metadata": {},
     "output_type": "execute_result"
    }
   ],
   "source": [
    "b.dtype"
   ]
  },
  {
   "cell_type": "markdown",
   "id": "0eb96cf8",
   "metadata": {},
   "source": [
    "##### shape"
   ]
  },
  {
   "cell_type": "code",
   "execution_count": 5,
   "id": "b57a4334",
   "metadata": {},
   "outputs": [
    {
     "data": {
      "text/plain": [
       "(6,)"
      ]
     },
     "execution_count": 5,
     "metadata": {},
     "output_type": "execute_result"
    }
   ],
   "source": [
    "a.shape"
   ]
  },
  {
   "cell_type": "code",
   "execution_count": 11,
   "id": "80be5a8c",
   "metadata": {},
   "outputs": [
    {
     "data": {
      "text/plain": [
       "(15,)"
      ]
     },
     "execution_count": 11,
     "metadata": {},
     "output_type": "execute_result"
    }
   ],
   "source": [
    "b.shape"
   ]
  },
  {
   "cell_type": "markdown",
   "id": "22a8ad37",
   "metadata": {},
   "source": [
    "##### n dim"
   ]
  },
  {
   "cell_type": "code",
   "execution_count": 31,
   "id": "214ad0c8",
   "metadata": {},
   "outputs": [
    {
     "data": {
      "text/plain": [
       "1"
      ]
     },
     "execution_count": 31,
     "metadata": {},
     "output_type": "execute_result"
    }
   ],
   "source": [
    "# dimension of the array\n",
    "a.ndim"
   ]
  },
  {
   "cell_type": "code",
   "execution_count": 12,
   "id": "9ab4ac7a",
   "metadata": {},
   "outputs": [
    {
     "data": {
      "text/plain": [
       "1"
      ]
     },
     "execution_count": 12,
     "metadata": {},
     "output_type": "execute_result"
    }
   ],
   "source": [
    "b.ndim"
   ]
  },
  {
   "cell_type": "markdown",
   "id": "085b8d51",
   "metadata": {},
   "source": [
    "##### size"
   ]
  },
  {
   "cell_type": "code",
   "execution_count": 7,
   "id": "4e8ffa77",
   "metadata": {},
   "outputs": [
    {
     "data": {
      "text/plain": [
       "6"
      ]
     },
     "execution_count": 7,
     "metadata": {},
     "output_type": "execute_result"
    }
   ],
   "source": [
    "#Total elements\n",
    "a.size"
   ]
  },
  {
   "cell_type": "code",
   "execution_count": 13,
   "id": "2a719951",
   "metadata": {},
   "outputs": [
    {
     "data": {
      "text/plain": [
       "15"
      ]
     },
     "execution_count": 13,
     "metadata": {},
     "output_type": "execute_result"
    }
   ],
   "source": [
    "b.size"
   ]
  },
  {
   "cell_type": "markdown",
   "id": "9772bfbd",
   "metadata": {},
   "source": [
    "### Indexing"
   ]
  },
  {
   "cell_type": "code",
   "execution_count": 8,
   "id": "4e1d6068",
   "metadata": {},
   "outputs": [
    {
     "data": {
      "text/plain": [
       "10"
      ]
     },
     "execution_count": 8,
     "metadata": {},
     "output_type": "execute_result"
    }
   ],
   "source": [
    "a[0]"
   ]
  },
  {
   "cell_type": "code",
   "execution_count": 14,
   "id": "57507c86",
   "metadata": {},
   "outputs": [
    {
     "data": {
      "text/plain": [
       "1"
      ]
     },
     "execution_count": 14,
     "metadata": {},
     "output_type": "execute_result"
    }
   ],
   "source": [
    "b[0]"
   ]
  },
  {
   "cell_type": "code",
   "execution_count": 15,
   "id": "c8a5f20b",
   "metadata": {},
   "outputs": [
    {
     "data": {
      "text/plain": [
       "0"
      ]
     },
     "execution_count": 15,
     "metadata": {},
     "output_type": "execute_result"
    }
   ],
   "source": [
    "a[-1]"
   ]
  },
  {
   "cell_type": "code",
   "execution_count": 16,
   "id": "c8ca0337",
   "metadata": {},
   "outputs": [
    {
     "data": {
      "text/plain": [
       "4"
      ]
     },
     "execution_count": 16,
     "metadata": {},
     "output_type": "execute_result"
    }
   ],
   "source": [
    "b[-2]"
   ]
  },
  {
   "cell_type": "code",
   "execution_count": 17,
   "id": "af50c361",
   "metadata": {},
   "outputs": [
    {
     "data": {
      "text/plain": [
       "array([30, 50])"
      ]
     },
     "execution_count": 17,
     "metadata": {},
     "output_type": "execute_result"
    }
   ],
   "source": [
    "a[2:4]"
   ]
  },
  {
   "cell_type": "code",
   "execution_count": 18,
   "id": "6e66458a",
   "metadata": {},
   "outputs": [
    {
     "data": {
      "text/plain": [
       "array([ 2,  4,  4,  4,  2, 32, 12, 10,  7,  6,  5,  4,  3,  2,  1])"
      ]
     },
     "execution_count": 18,
     "metadata": {},
     "output_type": "execute_result"
    }
   ],
   "source": [
    "b[::-1]"
   ]
  },
  {
   "cell_type": "markdown",
   "id": "1090d096",
   "metadata": {},
   "source": [
    "### Multidimensional array"
   ]
  },
  {
   "cell_type": "code",
   "execution_count": 19,
   "id": "f230ec8e",
   "metadata": {},
   "outputs": [],
   "source": [
    "a_2d = np.array([[10,20,30],[23,55,15]])"
   ]
  },
  {
   "cell_type": "code",
   "execution_count": 20,
   "id": "cb5c5185",
   "metadata": {},
   "outputs": [
    {
     "data": {
      "text/plain": [
       "array([[10, 20, 30],\n",
       "       [23, 55, 15]])"
      ]
     },
     "execution_count": 20,
     "metadata": {},
     "output_type": "execute_result"
    }
   ],
   "source": [
    "a_2d"
   ]
  },
  {
   "cell_type": "code",
   "execution_count": 21,
   "id": "73698c45",
   "metadata": {},
   "outputs": [
    {
     "data": {
      "text/plain": [
       "(2, 3)"
      ]
     },
     "execution_count": 21,
     "metadata": {},
     "output_type": "execute_result"
    }
   ],
   "source": [
    "a_2d.shape"
   ]
  },
  {
   "cell_type": "code",
   "execution_count": 22,
   "id": "10a98fac",
   "metadata": {},
   "outputs": [
    {
     "data": {
      "text/plain": [
       "2"
      ]
     },
     "execution_count": 22,
     "metadata": {},
     "output_type": "execute_result"
    }
   ],
   "source": [
    "a_2d.ndim"
   ]
  },
  {
   "cell_type": "code",
   "execution_count": 23,
   "id": "55a005b4",
   "metadata": {},
   "outputs": [
    {
     "data": {
      "text/plain": [
       "6"
      ]
     },
     "execution_count": 23,
     "metadata": {},
     "output_type": "execute_result"
    }
   ],
   "source": [
    "a_2d.size"
   ]
  },
  {
   "cell_type": "code",
   "execution_count": 25,
   "id": "6f4a04cb",
   "metadata": {},
   "outputs": [
    {
     "data": {
      "text/plain": [
       "array([10, 20, 30])"
      ]
     },
     "execution_count": 25,
     "metadata": {},
     "output_type": "execute_result"
    }
   ],
   "source": [
    "#Shows the first element in a_2d\n",
    "a_2d[0]"
   ]
  },
  {
   "cell_type": "markdown",
   "id": "cc137ca7",
   "metadata": {},
   "source": [
    "### Another type of multidimensional array"
   ]
  },
  {
   "cell_type": "code",
   "execution_count": 27,
   "id": "f3409474",
   "metadata": {},
   "outputs": [
    {
     "data": {
      "text/plain": [
       "array([[[1, 2, 3, 4]]])"
      ]
     },
     "execution_count": 27,
     "metadata": {},
     "output_type": "execute_result"
    }
   ],
   "source": [
    "another_type_array = np.array([[[1,2,3,4]]])\n",
    "another_type_array"
   ]
  },
  {
   "cell_type": "code",
   "execution_count": 28,
   "id": "5a208710",
   "metadata": {},
   "outputs": [
    {
     "data": {
      "text/plain": [
       "(1, 1, 4)"
      ]
     },
     "execution_count": 28,
     "metadata": {},
     "output_type": "execute_result"
    }
   ],
   "source": [
    "another_type_array.shape"
   ]
  },
  {
   "cell_type": "code",
   "execution_count": 29,
   "id": "9ce7ecdc",
   "metadata": {},
   "outputs": [
    {
     "data": {
      "text/plain": [
       "3"
      ]
     },
     "execution_count": 29,
     "metadata": {},
     "output_type": "execute_result"
    }
   ],
   "source": [
    "another_type_array.ndim"
   ]
  },
  {
   "cell_type": "code",
   "execution_count": 32,
   "id": "2fbfb1c8",
   "metadata": {},
   "outputs": [
    {
     "data": {
      "text/plain": [
       "4"
      ]
     },
     "execution_count": 32,
     "metadata": {},
     "output_type": "execute_result"
    }
   ],
   "source": [
    "another_type_array.size"
   ]
  },
  {
   "cell_type": "markdown",
   "id": "c1b8e1f4",
   "metadata": {},
   "source": [
    "#### First element in the first arry"
   ]
  },
  {
   "cell_type": "code",
   "execution_count": 34,
   "id": "9c24fe5c",
   "metadata": {},
   "outputs": [
    {
     "data": {
      "text/plain": [
       "array([[10, 20, 30],\n",
       "       [23, 55, 15]])"
      ]
     },
     "execution_count": 34,
     "metadata": {},
     "output_type": "execute_result"
    }
   ],
   "source": [
    "a_2d"
   ]
  },
  {
   "cell_type": "code",
   "execution_count": 33,
   "id": "7b0e79b0",
   "metadata": {},
   "outputs": [
    {
     "data": {
      "text/plain": [
       "10"
      ]
     },
     "execution_count": 33,
     "metadata": {},
     "output_type": "execute_result"
    }
   ],
   "source": [
    "a_2d[0][0]"
   ]
  },
  {
   "cell_type": "markdown",
   "id": "eb18e1c1",
   "metadata": {},
   "source": [
    "#### Second element in the second array"
   ]
  },
  {
   "cell_type": "code",
   "execution_count": 35,
   "id": "8a74ca75",
   "metadata": {},
   "outputs": [
    {
     "data": {
      "text/plain": [
       "55"
      ]
     },
     "execution_count": 35,
     "metadata": {},
     "output_type": "execute_result"
    }
   ],
   "source": [
    "a_2d[1][1]"
   ]
  },
  {
   "cell_type": "markdown",
   "id": "e3740595",
   "metadata": {},
   "source": [
    "#### Last element in the last array"
   ]
  },
  {
   "cell_type": "code",
   "execution_count": 36,
   "id": "1c160a45",
   "metadata": {},
   "outputs": [
    {
     "data": {
      "text/plain": [
       "15"
      ]
     },
     "execution_count": 36,
     "metadata": {},
     "output_type": "execute_result"
    }
   ],
   "source": [
    "a_2d[-1][-1]"
   ]
  },
  {
   "cell_type": "markdown",
   "id": "a5e87bca",
   "metadata": {},
   "source": [
    "#### Lets change its data type into float"
   ]
  },
  {
   "cell_type": "code",
   "execution_count": 45,
   "id": "73ee8070",
   "metadata": {},
   "outputs": [],
   "source": [
    "a_2d = np.array([[10,20,30],[23,55,15]],dtype = float)"
   ]
  },
  {
   "cell_type": "code",
   "execution_count": 46,
   "id": "cba57063",
   "metadata": {},
   "outputs": [
    {
     "data": {
      "text/plain": [
       "array([[10., 20., 30.],\n",
       "       [23., 55., 15.]])"
      ]
     },
     "execution_count": 46,
     "metadata": {},
     "output_type": "execute_result"
    }
   ],
   "source": [
    "a_2d"
   ]
  },
  {
   "cell_type": "markdown",
   "id": "b436b98b",
   "metadata": {},
   "source": [
    "### Lets create a bigger array"
   ]
  },
  {
   "cell_type": "code",
   "execution_count": 47,
   "id": "73924dfe",
   "metadata": {},
   "outputs": [],
   "source": [
    "a_bigger = np.array([\n",
    "    [\n",
    "        [10,20,30,40],[8,8,2,1],[1,1,1,2]\n",
    "    ],\n",
    "    [\n",
    "        [9,9,2,39],[1,2,3,3],[0,0,3,2]\n",
    "    ],\n",
    "    [\n",
    "        [12,33,22,1],[22,1,22,2],[0,2,3,1]\n",
    "    ]\n",
    "    ],dtype=float)"
   ]
  },
  {
   "cell_type": "code",
   "execution_count": 69,
   "id": "8155fb42",
   "metadata": {},
   "outputs": [
    {
     "data": {
      "text/plain": [
       "(3, 3, 4)"
      ]
     },
     "execution_count": 69,
     "metadata": {},
     "output_type": "execute_result"
    }
   ],
   "source": [
    "#(elements in 1-D,elements in 2-D,elements in 3-D)\n",
    "a_bigger.shape"
   ]
  },
  {
   "cell_type": "code",
   "execution_count": 49,
   "id": "5f310dd3",
   "metadata": {},
   "outputs": [
    {
     "data": {
      "text/plain": [
       "3"
      ]
     },
     "execution_count": 49,
     "metadata": {},
     "output_type": "execute_result"
    }
   ],
   "source": [
    "a_bigger.ndim"
   ]
  },
  {
   "cell_type": "code",
   "execution_count": 50,
   "id": "57a2022d",
   "metadata": {},
   "outputs": [
    {
     "data": {
      "text/plain": [
       "36"
      ]
     },
     "execution_count": 50,
     "metadata": {},
     "output_type": "execute_result"
    }
   ],
   "source": [
    "a_bigger.size"
   ]
  },
  {
   "cell_type": "code",
   "execution_count": 51,
   "id": "39c18647",
   "metadata": {},
   "outputs": [
    {
     "data": {
      "text/plain": [
       "1.0"
      ]
     },
     "execution_count": 51,
     "metadata": {},
     "output_type": "execute_result"
    }
   ],
   "source": [
    "a_bigger[2][2][3]"
   ]
  },
  {
   "cell_type": "code",
   "execution_count": 52,
   "id": "83327502",
   "metadata": {},
   "outputs": [
    {
     "data": {
      "text/plain": [
       "2.0"
      ]
     },
     "execution_count": 52,
     "metadata": {},
     "output_type": "execute_result"
    }
   ],
   "source": [
    "a_bigger[2][1][3]"
   ]
  },
  {
   "cell_type": "code",
   "execution_count": 54,
   "id": "511e36d0",
   "metadata": {},
   "outputs": [
    {
     "data": {
      "text/plain": [
       "3.0"
      ]
     },
     "execution_count": 54,
     "metadata": {},
     "output_type": "execute_result"
    }
   ],
   "source": [
    "a_bigger[1][1][2]"
   ]
  },
  {
   "cell_type": "code",
   "execution_count": 56,
   "id": "8aef4a8b",
   "metadata": {},
   "outputs": [
    {
     "data": {
      "text/plain": [
       "array([22.,  1., 22.,  2.])"
      ]
     },
     "execution_count": 56,
     "metadata": {},
     "output_type": "execute_result"
    }
   ],
   "source": [
    "#Third element in the 2nd array\n",
    "a_bigger[2][1]"
   ]
  },
  {
   "cell_type": "markdown",
   "id": "502728ba",
   "metadata": {},
   "source": [
    "### Filling arrays"
   ]
  },
  {
   "cell_type": "markdown",
   "id": "f9e5a0c6",
   "metadata": {},
   "source": [
    "##### np.full"
   ]
  },
  {
   "cell_type": "markdown",
   "id": "c68d400a",
   "metadata": {},
   "source": [
    "##### By using the full function for example, we fill an array of a certain shape with the same number. in this case we create a 3*5*4 matrix,which is filled with sevens"
   ]
  },
  {
   "cell_type": "code",
   "execution_count": 81,
   "id": "521ec51f",
   "metadata": {},
   "outputs": [],
   "source": [
    "a_full = np.full((3,5,4),7)"
   ]
  },
  {
   "cell_type": "code",
   "execution_count": 82,
   "id": "f25c3a13",
   "metadata": {},
   "outputs": [
    {
     "data": {
      "text/plain": [
       "array([[[7, 7, 7, 7],\n",
       "        [7, 7, 7, 7],\n",
       "        [7, 7, 7, 7],\n",
       "        [7, 7, 7, 7],\n",
       "        [7, 7, 7, 7]],\n",
       "\n",
       "       [[7, 7, 7, 7],\n",
       "        [7, 7, 7, 7],\n",
       "        [7, 7, 7, 7],\n",
       "        [7, 7, 7, 7],\n",
       "        [7, 7, 7, 7]],\n",
       "\n",
       "       [[7, 7, 7, 7],\n",
       "        [7, 7, 7, 7],\n",
       "        [7, 7, 7, 7],\n",
       "        [7, 7, 7, 7],\n",
       "        [7, 7, 7, 7]]])"
      ]
     },
     "execution_count": 82,
     "metadata": {},
     "output_type": "execute_result"
    }
   ],
   "source": [
    "a_full\n",
    "#3 elements with matrices of 5 by 4 shape"
   ]
  },
  {
   "cell_type": "code",
   "execution_count": 60,
   "id": "986cd5ae",
   "metadata": {},
   "outputs": [
    {
     "data": {
      "text/plain": [
       "3"
      ]
     },
     "execution_count": 60,
     "metadata": {},
     "output_type": "execute_result"
    }
   ],
   "source": [
    "a_full.ndim"
   ]
  },
  {
   "cell_type": "markdown",
   "id": "caef037d",
   "metadata": {},
   "source": [
    "### ZEROS AND ONES"
   ]
  },
  {
   "cell_type": "markdown",
   "id": "ed92db29",
   "metadata": {},
   "source": [
    "##### For the cases that we want arrays full of zeros and ones , we even have specific functions"
   ]
  },
  {
   "cell_type": "code",
   "execution_count": 61,
   "id": "cfc9484f",
   "metadata": {},
   "outputs": [],
   "source": [
    "a_zeros = np.zeros((3,3))"
   ]
  },
  {
   "cell_type": "code",
   "execution_count": 62,
   "id": "0460624b",
   "metadata": {},
   "outputs": [
    {
     "data": {
      "text/plain": [
       "array([[0., 0., 0.],\n",
       "       [0., 0., 0.],\n",
       "       [0., 0., 0.]])"
      ]
     },
     "execution_count": 62,
     "metadata": {},
     "output_type": "execute_result"
    }
   ],
   "source": [
    "a_zeros"
   ]
  },
  {
   "cell_type": "code",
   "execution_count": 63,
   "id": "b51e29bb",
   "metadata": {},
   "outputs": [],
   "source": [
    "b_ones = np.ones((2,3,4))"
   ]
  },
  {
   "cell_type": "code",
   "execution_count": 64,
   "id": "be1a924f",
   "metadata": {},
   "outputs": [
    {
     "data": {
      "text/plain": [
       "array([[[1., 1., 1., 1.],\n",
       "        [1., 1., 1., 1.],\n",
       "        [1., 1., 1., 1.]],\n",
       "\n",
       "       [[1., 1., 1., 1.],\n",
       "        [1., 1., 1., 1.],\n",
       "        [1., 1., 1., 1.]]])"
      ]
     },
     "execution_count": 64,
     "metadata": {},
     "output_type": "execute_result"
    }
   ],
   "source": [
    "b_ones"
   ]
  },
  {
   "cell_type": "code",
   "execution_count": 65,
   "id": "d48de141",
   "metadata": {},
   "outputs": [
    {
     "data": {
      "text/plain": [
       "3"
      ]
     },
     "execution_count": 65,
     "metadata": {},
     "output_type": "execute_result"
    }
   ],
   "source": [
    "b_ones.ndim"
   ]
  },
  {
   "cell_type": "markdown",
   "id": "7cdb7873",
   "metadata": {},
   "source": [
    "### EMPTY AND RANDOM"
   ]
  },
  {
   "cell_type": "markdown",
   "id": "af40692f",
   "metadata": {},
   "source": [
    "##### Other options would be to create an empty array or one that is filled with random numbers,For this, we use the respective function once again."
   ]
  },
  {
   "cell_type": "markdown",
   "id": "498df0f1",
   "metadata": {},
   "source": [
    "#### Empty"
   ]
  },
  {
   "cell_type": "code",
   "execution_count": 96,
   "id": "67241e03",
   "metadata": {},
   "outputs": [],
   "source": [
    "e = np.empty((4,4))"
   ]
  },
  {
   "cell_type": "code",
   "execution_count": 98,
   "id": "a4e4ae55",
   "metadata": {},
   "outputs": [
    {
     "data": {
      "text/plain": [
       "array([[0., 0., 0., 0.],\n",
       "       [0., 0., 0., 0.],\n",
       "       [0., 0., 0., 0.],\n",
       "       [0., 0., 0., 0.]])"
      ]
     },
     "execution_count": 98,
     "metadata": {},
     "output_type": "execute_result"
    }
   ],
   "source": [
    "e"
   ]
  },
  {
   "cell_type": "markdown",
   "id": "a0a1a916",
   "metadata": {},
   "source": [
    "#### Random(shows values wirthin tyhe range 0 to 1)"
   ]
  },
  {
   "cell_type": "code",
   "execution_count": 76,
   "id": "53f8ef77",
   "metadata": {},
   "outputs": [],
   "source": [
    "b_random = np.random.random((2,2))"
   ]
  },
  {
   "cell_type": "code",
   "execution_count": 77,
   "id": "f2486c31",
   "metadata": {},
   "outputs": [
    {
     "data": {
      "text/plain": [
       "array([[[0.16916636, 0.12478747],\n",
       "        [0.52476243, 0.92081669]]])"
      ]
     },
     "execution_count": 77,
     "metadata": {},
     "output_type": "execute_result"
    }
   ],
   "source": [
    "b_random"
   ]
  },
  {
   "cell_type": "markdown",
   "id": "17302241",
   "metadata": {},
   "source": [
    "### RANGES"
   ]
  },
  {
   "cell_type": "markdown",
   "id": "c4e0bafd",
   "metadata": {},
   "source": [
    "##### Instead of just filling arrays with the same values, we can fill create sequences of values by specifying the boundaries.For this , we can use two different functions, namely arrange and linspace"
   ]
  },
  {
   "cell_type": "markdown",
   "id": "57e81f84",
   "metadata": {},
   "source": [
    "#### Arrange"
   ]
  },
  {
   "cell_type": "markdown",
   "id": "fa1e3742",
   "metadata": {},
   "source": [
    "##### Arguments are start-stop-step"
   ]
  },
  {
   "cell_type": "code",
   "execution_count": 74,
   "id": "092ec96a",
   "metadata": {
    "scrolled": true
   },
   "outputs": [
    {
     "data": {
      "text/plain": [
       "array([10, 13, 16, 19, 22, 25, 28, 31, 34, 37, 40, 43, 46, 49])"
      ]
     },
     "execution_count": 74,
     "metadata": {},
     "output_type": "execute_result"
    }
   ],
   "source": [
    "#Third element step shows the incrementing option\n",
    "a_arange = np.arange(10,50,3)\n",
    "a_arange"
   ]
  },
  {
   "cell_type": "code",
   "execution_count": 85,
   "id": "f0a96a97",
   "metadata": {},
   "outputs": [
    {
     "data": {
      "text/plain": [
       "array([10, 15, 20, 25, 30, 35, 40, 45])"
      ]
     },
     "execution_count": 85,
     "metadata": {},
     "output_type": "execute_result"
    }
   ],
   "source": [
    "b_arange = np.arange(10,50,5)\n",
    "b_arange"
   ]
  },
  {
   "cell_type": "markdown",
   "id": "34f72869",
   "metadata": {},
   "source": [
    "### linspace"
   ]
  },
  {
   "cell_type": "markdown",
   "id": "56f5aca0",
   "metadata": {},
   "source": [
    "##### By using linspace we also create a list from a minimum value to a maximum value. But, instead of specifying the step-size, we specify the amount of values that we want to have in our list . They will all be spread evenly and have the same distance of their neighbors"
   ]
  },
  {
   "cell_type": "markdown",
   "id": "59fc86ca",
   "metadata": {},
   "source": [
    "##### start-stop-number of values"
   ]
  },
  {
   "cell_type": "code",
   "execution_count": 83,
   "id": "623842f6",
   "metadata": {},
   "outputs": [],
   "source": [
    "b_linspace = np.linspace(0,50,2)"
   ]
  },
  {
   "cell_type": "code",
   "execution_count": 90,
   "id": "909eecf9",
   "metadata": {},
   "outputs": [
    {
     "data": {
      "text/plain": [
       "array([ 0., 50.])"
      ]
     },
     "execution_count": 90,
     "metadata": {},
     "output_type": "execute_result"
    }
   ],
   "source": [
    "# in linspace we can see the first and last element in the dataset \n",
    "b_linspace"
   ]
  },
  {
   "cell_type": "code",
   "execution_count": 86,
   "id": "2574b146",
   "metadata": {},
   "outputs": [
    {
     "data": {
      "text/plain": [
       "1"
      ]
     },
     "execution_count": 86,
     "metadata": {},
     "output_type": "execute_result"
    }
   ],
   "source": [
    "b_linspace.ndim"
   ]
  },
  {
   "cell_type": "code",
   "execution_count": 87,
   "id": "0120cc87",
   "metadata": {},
   "outputs": [
    {
     "data": {
      "text/plain": [
       "2"
      ]
     },
     "execution_count": 87,
     "metadata": {},
     "output_type": "execute_result"
    }
   ],
   "source": [
    "b_linspace.size"
   ]
  },
  {
   "cell_type": "code",
   "execution_count": 88,
   "id": "19677e86",
   "metadata": {},
   "outputs": [],
   "source": [
    "b_linspace1 = np.linspace(0,50,10)"
   ]
  },
  {
   "cell_type": "code",
   "execution_count": 89,
   "id": "eacc9551",
   "metadata": {},
   "outputs": [
    {
     "data": {
      "text/plain": [
       "array([ 0.        ,  5.55555556, 11.11111111, 16.66666667, 22.22222222,\n",
       "       27.77777778, 33.33333333, 38.88888889, 44.44444444, 50.        ])"
      ]
     },
     "execution_count": 89,
     "metadata": {},
     "output_type": "execute_result"
    }
   ],
   "source": [
    "b_linspace1"
   ]
  },
  {
   "cell_type": "code",
   "execution_count": 100,
   "id": "116884b9",
   "metadata": {},
   "outputs": [
    {
     "data": {
      "text/plain": [
       "10"
      ]
     },
     "execution_count": 100,
     "metadata": {},
     "output_type": "execute_result"
    }
   ],
   "source": [
    "b_linspace1.size"
   ]
  },
  {
   "cell_type": "code",
   "execution_count": 101,
   "id": "7f0cad4f",
   "metadata": {},
   "outputs": [],
   "source": [
    "b_linspace2 = np.linspace(0,50,30)"
   ]
  },
  {
   "cell_type": "code",
   "execution_count": 102,
   "id": "1ef6b9ac",
   "metadata": {},
   "outputs": [
    {
     "data": {
      "text/plain": [
       "array([ 0.        ,  1.72413793,  3.44827586,  5.17241379,  6.89655172,\n",
       "        8.62068966, 10.34482759, 12.06896552, 13.79310345, 15.51724138,\n",
       "       17.24137931, 18.96551724, 20.68965517, 22.4137931 , 24.13793103,\n",
       "       25.86206897, 27.5862069 , 29.31034483, 31.03448276, 32.75862069,\n",
       "       34.48275862, 36.20689655, 37.93103448, 39.65517241, 41.37931034,\n",
       "       43.10344828, 44.82758621, 46.55172414, 48.27586207, 50.        ])"
      ]
     },
     "execution_count": 102,
     "metadata": {},
     "output_type": "execute_result"
    }
   ],
   "source": [
    "b_linspace2"
   ]
  },
  {
   "cell_type": "code",
   "execution_count": 103,
   "id": "a671f1c5",
   "metadata": {},
   "outputs": [
    {
     "data": {
      "text/plain": [
       "30"
      ]
     },
     "execution_count": 103,
     "metadata": {},
     "output_type": "execute_result"
    }
   ],
   "source": [
    "b_linspace2.size"
   ]
  },
  {
   "cell_type": "markdown",
   "id": "d0b53e5d",
   "metadata": {},
   "source": [
    "##### showing linspace in int format"
   ]
  },
  {
   "cell_type": "code",
   "execution_count": 104,
   "id": "f93fb922",
   "metadata": {},
   "outputs": [],
   "source": [
    "b_linspace3 = np.linspace(0,50,25,dtype=int)"
   ]
  },
  {
   "cell_type": "code",
   "execution_count": 105,
   "id": "15ae822f",
   "metadata": {},
   "outputs": [
    {
     "data": {
      "text/plain": [
       "array([ 0,  2,  4,  6,  8, 10, 12, 14, 16, 18, 20, 22, 25, 27, 29, 31, 33,\n",
       "       35, 37, 39, 41, 43, 45, 47, 50])"
      ]
     },
     "execution_count": 105,
     "metadata": {},
     "output_type": "execute_result"
    }
   ],
   "source": [
    "b_linspace3"
   ]
  },
  {
   "cell_type": "markdown",
   "id": "deb280e8",
   "metadata": {},
   "source": [
    "### np.exp(a)"
   ]
  },
  {
   "cell_type": "markdown",
   "id": "545ee3e5",
   "metadata": {},
   "source": [
    "##### Takes e to the power of each value"
   ]
  },
  {
   "cell_type": "code",
   "execution_count": 107,
   "id": "2c70540c",
   "metadata": {},
   "outputs": [
    {
     "data": {
      "text/plain": [
       "2.718281828459045"
      ]
     },
     "execution_count": 107,
     "metadata": {},
     "output_type": "execute_result"
    }
   ],
   "source": [
    "np.exp(1)\n",
    "#shows the value of e"
   ]
  },
  {
   "cell_type": "code",
   "execution_count": 108,
   "id": "16f8b23d",
   "metadata": {},
   "outputs": [
    {
     "data": {
      "text/plain": [
       "7.38905609893065"
      ]
     },
     "execution_count": 108,
     "metadata": {},
     "output_type": "execute_result"
    }
   ],
   "source": [
    "np.exp(2)"
   ]
  }
 ],
 "metadata": {
  "kernelspec": {
   "display_name": "Python 3 (ipykernel)",
   "language": "python",
   "name": "python3"
  },
  "language_info": {
   "codemirror_mode": {
    "name": "ipython",
    "version": 3
   },
   "file_extension": ".py",
   "mimetype": "text/x-python",
   "name": "python",
   "nbconvert_exporter": "python",
   "pygments_lexer": "ipython3",
   "version": "3.10.9"
  }
 },
 "nbformat": 4,
 "nbformat_minor": 5
}

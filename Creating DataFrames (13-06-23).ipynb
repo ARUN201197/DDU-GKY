{
 "cells": [
  {
   "cell_type": "markdown",
   "id": "0d1360a0",
   "metadata": {},
   "source": [
    "### <center> Creating dataframes using different methods"
   ]
  },
  {
   "cell_type": "code",
   "execution_count": 1,
   "id": "da5cd995",
   "metadata": {},
   "outputs": [],
   "source": [
    "import pandas as pd\n",
    "import numpy as np"
   ]
  },
  {
   "cell_type": "markdown",
   "id": "9fcb61cd",
   "metadata": {},
   "source": [
    "#### Finding Data Type"
   ]
  },
  {
   "cell_type": "code",
   "execution_count": 2,
   "id": "15454a19",
   "metadata": {},
   "outputs": [
    {
     "name": "stdout",
     "output_type": "stream",
     "text": [
      "float64\n"
     ]
    }
   ],
   "source": [
    "My_Series = pd.Series([12.4,36.8,78.5,95.3])\n",
    "print(My_Series.dtype)"
   ]
  },
  {
   "cell_type": "markdown",
   "id": "30ef3120",
   "metadata": {},
   "source": [
    "#### Converting to List"
   ]
  },
  {
   "cell_type": "code",
   "execution_count": 3,
   "id": "5f7653e7",
   "metadata": {},
   "outputs": [
    {
     "name": "stdout",
     "output_type": "stream",
     "text": [
      "[12.4, 36.8, 78.5, 95.3]\n"
     ]
    }
   ],
   "source": [
    "print(My_Series.tolist())"
   ]
  },
  {
   "cell_type": "markdown",
   "id": "2c9d9b5d",
   "metadata": {},
   "source": [
    "## Pandas Dataframe"
   ]
  },
  {
   "cell_type": "markdown",
   "id": "9ac9652f",
   "metadata": {},
   "source": [
    "#### A Pandas dataframe is a tabular data structure that stores in the form of rows and columns. As a standard,the rows correspond to records while columns refer to attributes. In simplified words, a Pandas dataframe is a collection of series."
   ]
  },
  {
   "cell_type": "markdown",
   "id": "23e3b23f",
   "metadata": {},
   "source": [
    "#### Empty Dataframe"
   ]
  },
  {
   "cell_type": "code",
   "execution_count": 4,
   "id": "939d1a87",
   "metadata": {},
   "outputs": [
    {
     "name": "stdout",
     "output_type": "stream",
     "text": [
      "Empty DataFrame\n",
      "Columns: []\n",
      "Index: []\n"
     ]
    }
   ],
   "source": [
    "My_df = pd.DataFrame()\n",
    "print(My_df)"
   ]
  },
  {
   "cell_type": "markdown",
   "id": "3b5da044",
   "metadata": {},
   "source": [
    "#### 1) Dataframe using list of lists"
   ]
  },
  {
   "cell_type": "code",
   "execution_count": 15,
   "id": "ba97fd3a",
   "metadata": {},
   "outputs": [
    {
     "data": {
      "text/html": [
       "<div>\n",
       "<style scoped>\n",
       "    .dataframe tbody tr th:only-of-type {\n",
       "        vertical-align: middle;\n",
       "    }\n",
       "\n",
       "    .dataframe tbody tr th {\n",
       "        vertical-align: top;\n",
       "    }\n",
       "\n",
       "    .dataframe thead th {\n",
       "        text-align: right;\n",
       "    }\n",
       "</style>\n",
       "<table border=\"1\" class=\"dataframe\">\n",
       "  <thead>\n",
       "    <tr style=\"text-align: right;\">\n",
       "      <th></th>\n",
       "      <th>Name</th>\n",
       "      <th>Relation</th>\n",
       "      <th>Age</th>\n",
       "      <th>Qualification</th>\n",
       "      <th>Occupation</th>\n",
       "    </tr>\n",
       "  </thead>\n",
       "  <tbody>\n",
       "    <tr>\n",
       "      <th>0</th>\n",
       "      <td>Anil</td>\n",
       "      <td>Father</td>\n",
       "      <td>51</td>\n",
       "      <td>Graduation</td>\n",
       "      <td>Welder</td>\n",
       "    </tr>\n",
       "    <tr>\n",
       "      <th>1</th>\n",
       "      <td>Rema</td>\n",
       "      <td>Mother</td>\n",
       "      <td>50</td>\n",
       "      <td>Graduation</td>\n",
       "      <td>Home maker</td>\n",
       "    </tr>\n",
       "    <tr>\n",
       "      <th>2</th>\n",
       "      <td>Arya</td>\n",
       "      <td>Sister</td>\n",
       "      <td>20</td>\n",
       "      <td>Graduation pursuing</td>\n",
       "      <td>Student</td>\n",
       "    </tr>\n",
       "  </tbody>\n",
       "</table>\n",
       "</div>"
      ],
      "text/plain": [
       "   Name Relation  Age        Qualification  Occupation\n",
       "0  Anil   Father   51           Graduation      Welder\n",
       "1  Rema   Mother   50           Graduation  Home maker\n",
       "2  Arya   Sister   20  Graduation pursuing     Student"
      ]
     },
     "execution_count": 15,
     "metadata": {},
     "output_type": "execute_result"
    }
   ],
   "source": [
    "Personal_data = [['Anil','Father',51,'Graduation','Welder'],['Rema','Mother',50,'Graduation','Home maker'],['Arya','Sister',20,'Graduation pursuing','Student']]\n",
    "My_df = pd.DataFrame(Personal_data,columns=['Name','Relation','Age','Qualification','Occupation'])\n",
    "My_df"
   ]
  },
  {
   "cell_type": "markdown",
   "id": "b50ced94",
   "metadata": {},
   "source": [
    "#### 2) Dataframe using dictionaries"
   ]
  },
  {
   "cell_type": "code",
   "execution_count": 12,
   "id": "de628bab",
   "metadata": {},
   "outputs": [
    {
     "data": {
      "text/html": [
       "<div>\n",
       "<style scoped>\n",
       "    .dataframe tbody tr th:only-of-type {\n",
       "        vertical-align: middle;\n",
       "    }\n",
       "\n",
       "    .dataframe tbody tr th {\n",
       "        vertical-align: top;\n",
       "    }\n",
       "\n",
       "    .dataframe thead th {\n",
       "        text-align: right;\n",
       "    }\n",
       "</style>\n",
       "<table border=\"1\" class=\"dataframe\">\n",
       "  <thead>\n",
       "    <tr style=\"text-align: right;\">\n",
       "      <th></th>\n",
       "      <th>Friends</th>\n",
       "      <th>Age</th>\n",
       "      <th>Pet name</th>\n",
       "      <th>Ambition</th>\n",
       "    </tr>\n",
       "  </thead>\n",
       "  <tbody>\n",
       "    <tr>\n",
       "      <th>0</th>\n",
       "      <td>Ayas</td>\n",
       "      <td>24</td>\n",
       "      <td>Kunjava</td>\n",
       "      <td>Chartered Accountant</td>\n",
       "    </tr>\n",
       "    <tr>\n",
       "      <th>1</th>\n",
       "      <td>Karna</td>\n",
       "      <td>26</td>\n",
       "      <td>Hulk</td>\n",
       "      <td>IPS</td>\n",
       "    </tr>\n",
       "    <tr>\n",
       "      <th>2</th>\n",
       "      <td>Kiran</td>\n",
       "      <td>25</td>\n",
       "      <td>Chakappan</td>\n",
       "      <td>Actor</td>\n",
       "    </tr>\n",
       "    <tr>\n",
       "      <th>3</th>\n",
       "      <td>Suved</td>\n",
       "      <td>25</td>\n",
       "      <td>Jose</td>\n",
       "      <td>Teacher</td>\n",
       "    </tr>\n",
       "  </tbody>\n",
       "</table>\n",
       "</div>"
      ],
      "text/plain": [
       "  Friends  Age   Pet name              Ambition\n",
       "0    Ayas   24    Kunjava  Chartered Accountant\n",
       "1   Karna   26       Hulk                   IPS\n",
       "2   Kiran   25  Chakappan                 Actor\n",
       "3   Suved   25       Jose               Teacher"
      ]
     },
     "execution_count": 12,
     "metadata": {},
     "output_type": "execute_result"
    }
   ],
   "source": [
    "Friends_list = {'Friends':['Ayas','Karna','Kiran','Suved'],\n",
    "'Age':[24,26,25,25],'Pet name':['Kunjava','Hulk','Chakappan','Jose'],'Ambition':['Chartered Accountant','IPS','Actor','Teacher']\n",
    "}\n",
    "My_df = pd.DataFrame(Friends_list)\n",
    "My_df"
   ]
  },
  {
   "cell_type": "markdown",
   "id": "cd585f62",
   "metadata": {},
   "source": [
    "#### 3) Dataframe using list of dictionaries"
   ]
  },
  {
   "cell_type": "code",
   "execution_count": 18,
   "id": "2bc64e66",
   "metadata": {},
   "outputs": [
    {
     "data": {
      "text/html": [
       "<div>\n",
       "<style scoped>\n",
       "    .dataframe tbody tr th:only-of-type {\n",
       "        vertical-align: middle;\n",
       "    }\n",
       "\n",
       "    .dataframe tbody tr th {\n",
       "        vertical-align: top;\n",
       "    }\n",
       "\n",
       "    .dataframe thead th {\n",
       "        text-align: right;\n",
       "    }\n",
       "</style>\n",
       "<table border=\"1\" class=\"dataframe\">\n",
       "  <thead>\n",
       "    <tr style=\"text-align: right;\">\n",
       "      <th></th>\n",
       "      <th>Name</th>\n",
       "      <th>Movie</th>\n",
       "      <th>Oscar recipient</th>\n",
       "    </tr>\n",
       "  </thead>\n",
       "  <tbody>\n",
       "    <tr>\n",
       "      <th>0</th>\n",
       "      <td>Leonardo DiCaprio</td>\n",
       "      <td>The Wolf of Wall Street</td>\n",
       "      <td>Yes</td>\n",
       "    </tr>\n",
       "    <tr>\n",
       "      <th>1</th>\n",
       "      <td>Tom Cruise</td>\n",
       "      <td>Mission Impossible series</td>\n",
       "      <td>No</td>\n",
       "    </tr>\n",
       "    <tr>\n",
       "      <th>2</th>\n",
       "      <td>Angelina Jolie</td>\n",
       "      <td>Salt</td>\n",
       "      <td>Yes</td>\n",
       "    </tr>\n",
       "    <tr>\n",
       "      <th>3</th>\n",
       "      <td>Scarlett Johansson</td>\n",
       "      <td>Lucy</td>\n",
       "      <td>No</td>\n",
       "    </tr>\n",
       "    <tr>\n",
       "      <th>4</th>\n",
       "      <td>Robert Downey Jr.</td>\n",
       "      <td>Iron Man</td>\n",
       "      <td>Yes</td>\n",
       "    </tr>\n",
       "    <tr>\n",
       "      <th>5</th>\n",
       "      <td>Johnny Depp</td>\n",
       "      <td>Pirates of Carribean series</td>\n",
       "      <td>Yes</td>\n",
       "    </tr>\n",
       "  </tbody>\n",
       "</table>\n",
       "</div>"
      ],
      "text/plain": [
       "                 Name                        Movie Oscar recipient\n",
       "0   Leonardo DiCaprio      The Wolf of Wall Street             Yes\n",
       "1          Tom Cruise    Mission Impossible series              No\n",
       "2      Angelina Jolie                         Salt             Yes\n",
       "3  Scarlett Johansson                         Lucy              No\n",
       "4   Robert Downey Jr.                     Iron Man             Yes\n",
       "5         Johnny Depp  Pirates of Carribean series             Yes"
      ]
     },
     "execution_count": 18,
     "metadata": {},
     "output_type": "execute_result"
    }
   ],
   "source": [
    "My_favourites = [\n",
    "{'Name':'Leonardo DiCaprio','Movie':'The Wolf of Wall Street','Oscar recipient':'Yes'},\n",
    "{'Name':'Tom Cruise','Movie':'Mission Impossible series','Oscar recipient':'No'},\n",
    "{'Name':'Angelina Jolie','Movie':'Salt','Oscar recipient':'Yes'},\n",
    "{'Name':'Scarlett Johansson','Movie':'Lucy','Oscar recipient':'No'},\n",
    "{'Name':'Robert Downey Jr.','Movie':'Iron Man','Oscar recipient':'Yes'},   \n",
    "{'Name':'Johnny Depp','Movie':'Pirates of Carribean series','Oscar recipient':'Yes'}        \n",
    "]\n",
    "My_df = pd.DataFrame(My_favourites)\n",
    "My_df "
   ]
  },
  {
   "cell_type": "markdown",
   "id": "f3663dbb",
   "metadata": {},
   "source": [
    "#### 4) Dataframe using list of dictionaries with null items"
   ]
  },
  {
   "cell_type": "code",
   "execution_count": 13,
   "id": "e92126ea",
   "metadata": {},
   "outputs": [
    {
     "data": {
      "text/html": [
       "<div>\n",
       "<style scoped>\n",
       "    .dataframe tbody tr th:only-of-type {\n",
       "        vertical-align: middle;\n",
       "    }\n",
       "\n",
       "    .dataframe tbody tr th {\n",
       "        vertical-align: top;\n",
       "    }\n",
       "\n",
       "    .dataframe thead th {\n",
       "        text-align: right;\n",
       "    }\n",
       "</style>\n",
       "<table border=\"1\" class=\"dataframe\">\n",
       "  <thead>\n",
       "    <tr style=\"text-align: right;\">\n",
       "      <th></th>\n",
       "      <th>Day</th>\n",
       "      <th>Focus on</th>\n",
       "      <th>Sets</th>\n",
       "    </tr>\n",
       "  </thead>\n",
       "  <tbody>\n",
       "    <tr>\n",
       "      <th>0</th>\n",
       "      <td>Monday</td>\n",
       "      <td>Chest &amp; Triceps</td>\n",
       "      <td>3.0</td>\n",
       "    </tr>\n",
       "    <tr>\n",
       "      <th>1</th>\n",
       "      <td>Tuesday</td>\n",
       "      <td>Wings &amp; Biceps</td>\n",
       "      <td>4.0</td>\n",
       "    </tr>\n",
       "    <tr>\n",
       "      <th>2</th>\n",
       "      <td>Wednesday</td>\n",
       "      <td>Shoulder &amp; Legs</td>\n",
       "      <td>5.0</td>\n",
       "    </tr>\n",
       "    <tr>\n",
       "      <th>3</th>\n",
       "      <td>Thursday</td>\n",
       "      <td>Chest &amp; Triceps</td>\n",
       "      <td>3.0</td>\n",
       "    </tr>\n",
       "    <tr>\n",
       "      <th>4</th>\n",
       "      <td>Friday</td>\n",
       "      <td>Wings &amp; Biceps</td>\n",
       "      <td>4.0</td>\n",
       "    </tr>\n",
       "    <tr>\n",
       "      <th>5</th>\n",
       "      <td>Saturday</td>\n",
       "      <td>Shoulder &amp; Legs</td>\n",
       "      <td>5.0</td>\n",
       "    </tr>\n",
       "    <tr>\n",
       "      <th>6</th>\n",
       "      <td>Rest day</td>\n",
       "      <td>NaN</td>\n",
       "      <td>NaN</td>\n",
       "    </tr>\n",
       "  </tbody>\n",
       "</table>\n",
       "</div>"
      ],
      "text/plain": [
       "         Day         Focus on  Sets\n",
       "0     Monday  Chest & Triceps   3.0\n",
       "1    Tuesday   Wings & Biceps   4.0\n",
       "2  Wednesday  Shoulder & Legs   5.0\n",
       "3   Thursday  Chest & Triceps   3.0\n",
       "4     Friday   Wings & Biceps   4.0\n",
       "5   Saturday  Shoulder & Legs   5.0\n",
       "6   Rest day              NaN   NaN"
      ]
     },
     "execution_count": 13,
     "metadata": {},
     "output_type": "execute_result"
    }
   ],
   "source": [
    "Fitness_Routine = [\n",
    "{'Day':'Monday','Focus on':'Chest & Triceps','Sets':3},\n",
    "{'Day':'Tuesday','Focus on':'Wings & Biceps','Sets':4},\n",
    "{'Day':'Wednesday','Focus on':'Shoulder & Legs','Sets':5},\n",
    "{'Day':'Thursday','Focus on':'Chest & Triceps','Sets':3},\n",
    "{'Day':'Friday','Focus on':'Wings & Biceps','Sets':4},\n",
    "{'Day':'Saturday','Focus on':'Shoulder & Legs','Sets':5},\n",
    "{'Day':'Rest day',}\n",
    "]\n",
    "My_df = pd.DataFrame(Fitness_Routine)\n",
    "My_df"
   ]
  }
 ],
 "metadata": {
  "kernelspec": {
   "display_name": "Python 3 (ipykernel)",
   "language": "python",
   "name": "python3"
  },
  "language_info": {
   "codemirror_mode": {
    "name": "ipython",
    "version": 3
   },
   "file_extension": ".py",
   "mimetype": "text/x-python",
   "name": "python",
   "nbconvert_exporter": "python",
   "pygments_lexer": "ipython3",
   "version": "3.10.9"
  }
 },
 "nbformat": 4,
 "nbformat_minor": 5
}

{
 "cells": [
  {
   "cell_type": "markdown",
   "id": "c15cc5f2",
   "metadata": {},
   "source": [
    "### <center> Scipy"
   ]
  },
  {
   "cell_type": "markdown",
   "id": "4a686b87",
   "metadata": {},
   "source": [
    "#### What is Scipy?"
   ]
  },
  {
   "cell_type": "markdown",
   "id": "63f3f988",
   "metadata": {},
   "source": [
    "Scipy is a scientific computation library that uses NumPy underneath. It provides more utility functions for optimization, stats and signal processing. Like NumPy, SciPy is open source so we can use it freely. SciPy was created by NumPy's creator Travis Olliphant."
   ]
  },
  {
   "cell_type": "markdown",
   "id": "65e3748b",
   "metadata": {},
   "source": [
    "#### Why Use SciPy?"
   ]
  },
  {
   "cell_type": "markdown",
   "id": "bcd87c08",
   "metadata": {},
   "source": [
    "If SciPy uses NumPy underneath, why can we not just use NumPy? SciPy has optimized and\n",
    "added functions that are frequently used in NumPy and Data Science."
   ]
  },
  {
   "cell_type": "markdown",
   "id": "9c0a7877",
   "metadata": {},
   "source": [
    "#### Which Language is SciPy Written in?"
   ]
  },
  {
   "cell_type": "markdown",
   "id": "727cb1bf",
   "metadata": {},
   "source": [
    "SciPy is predominantly written in Python, but a few segments are written in C."
   ]
  },
  {
   "cell_type": "markdown",
   "id": "94138edf",
   "metadata": {},
   "source": [
    "#### Constants in SciPy"
   ]
  },
  {
   "cell_type": "markdown",
   "id": "76b49960",
   "metadata": {},
   "source": [
    "As SciPy is more focused on scientific implementations, it provides many built-in scientific\n",
    "constants. These constants can be helpful when you are working with Data Science. PI is an\n",
    "example of a scientific constant."
   ]
  },
  {
   "cell_type": "code",
   "execution_count": 2,
   "id": "bbb49ef3",
   "metadata": {},
   "outputs": [],
   "source": [
    "from scipy import constants\n",
    "import numpy as np"
   ]
  },
  {
   "cell_type": "code",
   "execution_count": 3,
   "id": "41a69957",
   "metadata": {},
   "outputs": [
    {
     "data": {
      "text/plain": [
       "3.141592653589793"
      ]
     },
     "execution_count": 3,
     "metadata": {},
     "output_type": "execute_result"
    }
   ],
   "source": [
    "constants.pi"
   ]
  },
  {
   "cell_type": "markdown",
   "id": "813a1531",
   "metadata": {},
   "source": [
    "#### Constant Units"
   ]
  },
  {
   "cell_type": "markdown",
   "id": "370214d6",
   "metadata": {},
   "source": [
    "A list of all units under the constants module can be seen using the dir( ) function."
   ]
  },
  {
   "cell_type": "code",
   "execution_count": 4,
   "id": "70d0e25e",
   "metadata": {},
   "outputs": [
    {
     "name": "stdout",
     "output_type": "stream",
     "text": [
      "['Avogadro', 'Boltzmann', 'Btu', 'Btu_IT', 'Btu_th', 'ConstantWarning', 'G', 'Julian_year', 'N_A', 'Planck', 'R', 'Rydberg', 'Stefan_Boltzmann', 'Wien', '__all__', '__builtins__', '__cached__', '__doc__', '__file__', '__loader__', '__name__', '__package__', '__path__', '__spec__', '_codata', '_constants', '_obsolete_constants', 'acre', 'alpha', 'angstrom', 'arcmin', 'arcminute', 'arcsec', 'arcsecond', 'astronomical_unit', 'atm', 'atmosphere', 'atomic_mass', 'atto', 'au', 'bar', 'barrel', 'bbl', 'blob', 'c', 'calorie', 'calorie_IT', 'calorie_th', 'carat', 'centi', 'codata', 'constants', 'convert_temperature', 'day', 'deci', 'degree', 'degree_Fahrenheit', 'deka', 'dyn', 'dyne', 'e', 'eV', 'electron_mass', 'electron_volt', 'elementary_charge', 'epsilon_0', 'erg', 'exa', 'exbi', 'femto', 'fermi', 'find', 'fine_structure', 'fluid_ounce', 'fluid_ounce_US', 'fluid_ounce_imp', 'foot', 'g', 'gallon', 'gallon_US', 'gallon_imp', 'gas_constant', 'gibi', 'giga', 'golden', 'golden_ratio', 'grain', 'gram', 'gravitational_constant', 'h', 'hbar', 'hectare', 'hecto', 'horsepower', 'hour', 'hp', 'inch', 'k', 'kgf', 'kibi', 'kilo', 'kilogram_force', 'kmh', 'knot', 'lambda2nu', 'lb', 'lbf', 'light_year', 'liter', 'litre', 'long_ton', 'm_e', 'm_n', 'm_p', 'm_u', 'mach', 'mebi', 'mega', 'metric_ton', 'micro', 'micron', 'mil', 'mile', 'milli', 'minute', 'mmHg', 'mph', 'mu_0', 'nano', 'nautical_mile', 'neutron_mass', 'nu2lambda', 'ounce', 'oz', 'parsec', 'pebi', 'peta', 'physical_constants', 'pi', 'pico', 'point', 'pound', 'pound_force', 'precision', 'proton_mass', 'psi', 'pt', 'short_ton', 'sigma', 'slinch', 'slug', 'speed_of_light', 'speed_of_sound', 'stone', 'survey_foot', 'survey_mile', 'tebi', 'tera', 'test', 'ton_TNT', 'torr', 'troy_ounce', 'troy_pound', 'u', 'unit', 'value', 'week', 'yard', 'year', 'yobi', 'yocto', 'yotta', 'zebi', 'zepto', 'zero_Celsius', 'zetta']\n"
     ]
    }
   ],
   "source": [
    "print(dir(constants))"
   ]
  },
  {
   "cell_type": "markdown",
   "id": "4a6e5d08",
   "metadata": {},
   "source": [
    "#### Unit Categories"
   ]
  },
  {
   "cell_type": "markdown",
   "id": "761660cb",
   "metadata": {},
   "source": [
    "The units are placed under these categories: ● Metric ● Binary ● Mass ● Angle ● Time ● Length\n",
    "● Pressure ● Volume ● Speed ● Temperature ● Energy ● Power ● Force"
   ]
  },
  {
   "cell_type": "markdown",
   "id": "62b94ed9",
   "metadata": {},
   "source": [
    "#### Metric (SI) Prefixes:"
   ]
  },
  {
   "cell_type": "markdown",
   "id": "f7e35bb6",
   "metadata": {},
   "source": [
    "Return the specified unit in meter (e.g. cent i returns 0.0 1 )"
   ]
  },
  {
   "cell_type": "code",
   "execution_count": 5,
   "id": "2f4579dd",
   "metadata": {},
   "outputs": [
    {
     "data": {
      "text/plain": [
       "1e+24"
      ]
     },
     "execution_count": 5,
     "metadata": {},
     "output_type": "execute_result"
    }
   ],
   "source": [
    "constants.yotta"
   ]
  },
  {
   "cell_type": "code",
   "execution_count": 6,
   "id": "d360155d",
   "metadata": {},
   "outputs": [
    {
     "data": {
      "text/plain": [
       "1000000000000000.0"
      ]
     },
     "execution_count": 6,
     "metadata": {},
     "output_type": "execute_result"
    }
   ],
   "source": [
    "constants.peta"
   ]
  },
  {
   "cell_type": "code",
   "execution_count": 7,
   "id": "999b1f31",
   "metadata": {},
   "outputs": [
    {
     "data": {
      "text/plain": [
       "1000000.0"
      ]
     },
     "execution_count": 7,
     "metadata": {},
     "output_type": "execute_result"
    }
   ],
   "source": [
    "constants.mega"
   ]
  },
  {
   "cell_type": "code",
   "execution_count": 8,
   "id": "e9597f89",
   "metadata": {},
   "outputs": [
    {
     "data": {
      "text/plain": [
       "1000000000000.0"
      ]
     },
     "execution_count": 8,
     "metadata": {},
     "output_type": "execute_result"
    }
   ],
   "source": [
    "constants.tera"
   ]
  },
  {
   "cell_type": "code",
   "execution_count": 9,
   "id": "566019fb",
   "metadata": {},
   "outputs": [
    {
     "data": {
      "text/plain": [
       "1000000000.0"
      ]
     },
     "execution_count": 9,
     "metadata": {},
     "output_type": "execute_result"
    }
   ],
   "source": [
    "constants.giga"
   ]
  },
  {
   "cell_type": "code",
   "execution_count": 10,
   "id": "bc5750a0",
   "metadata": {},
   "outputs": [
    {
     "data": {
      "text/plain": [
       "1000.0"
      ]
     },
     "execution_count": 10,
     "metadata": {},
     "output_type": "execute_result"
    }
   ],
   "source": [
    "constants.kilo"
   ]
  },
  {
   "cell_type": "code",
   "execution_count": 11,
   "id": "002d07ab",
   "metadata": {},
   "outputs": [
    {
     "data": {
      "text/plain": [
       "1e-12"
      ]
     },
     "execution_count": 11,
     "metadata": {},
     "output_type": "execute_result"
    }
   ],
   "source": [
    "constants.pico"
   ]
  },
  {
   "cell_type": "code",
   "execution_count": 12,
   "id": "fa40a3ab",
   "metadata": {},
   "outputs": [
    {
     "data": {
      "text/plain": [
       "0.001"
      ]
     },
     "execution_count": 12,
     "metadata": {},
     "output_type": "execute_result"
    }
   ],
   "source": [
    "constants.milli"
   ]
  },
  {
   "cell_type": "code",
   "execution_count": 13,
   "id": "0ad403d5",
   "metadata": {},
   "outputs": [
    {
     "data": {
      "text/plain": [
       "1e-06"
      ]
     },
     "execution_count": 13,
     "metadata": {},
     "output_type": "execute_result"
    }
   ],
   "source": [
    "constants.micro"
   ]
  },
  {
   "cell_type": "markdown",
   "id": "7fc9a67b",
   "metadata": {},
   "source": [
    "#### Binary Prefixes:"
   ]
  },
  {
   "cell_type": "markdown",
   "id": "62de7027",
   "metadata": {},
   "source": [
    "Return the specified unit in bytes (e.g. kibi returns 1024 )"
   ]
  },
  {
   "cell_type": "code",
   "execution_count": 14,
   "id": "052aefef",
   "metadata": {},
   "outputs": [
    {
     "data": {
      "text/plain": [
       "1024"
      ]
     },
     "execution_count": 14,
     "metadata": {},
     "output_type": "execute_result"
    }
   ],
   "source": [
    "constants.kibi"
   ]
  },
  {
   "cell_type": "code",
   "execution_count": 15,
   "id": "54e4b26f",
   "metadata": {},
   "outputs": [
    {
     "data": {
      "text/plain": [
       "1048576"
      ]
     },
     "execution_count": 15,
     "metadata": {},
     "output_type": "execute_result"
    }
   ],
   "source": [
    "constants.mebi"
   ]
  },
  {
   "cell_type": "code",
   "execution_count": 16,
   "id": "d6de65dc",
   "metadata": {},
   "outputs": [
    {
     "data": {
      "text/plain": [
       "1073741824"
      ]
     },
     "execution_count": 16,
     "metadata": {},
     "output_type": "execute_result"
    }
   ],
   "source": [
    "constants.gibi"
   ]
  },
  {
   "cell_type": "code",
   "execution_count": 17,
   "id": "dbd8cbbb",
   "metadata": {},
   "outputs": [
    {
     "data": {
      "text/plain": [
       "1099511627776"
      ]
     },
     "execution_count": 17,
     "metadata": {},
     "output_type": "execute_result"
    }
   ],
   "source": [
    "constants.tebi"
   ]
  },
  {
   "cell_type": "code",
   "execution_count": 18,
   "id": "2438201e",
   "metadata": {},
   "outputs": [
    {
     "data": {
      "text/plain": [
       "1125899906842624"
      ]
     },
     "execution_count": 18,
     "metadata": {},
     "output_type": "execute_result"
    }
   ],
   "source": [
    "constants.pebi"
   ]
  },
  {
   "cell_type": "code",
   "execution_count": 19,
   "id": "5ed652d0",
   "metadata": {},
   "outputs": [
    {
     "data": {
      "text/plain": [
       "1152921504606846976"
      ]
     },
     "execution_count": 19,
     "metadata": {},
     "output_type": "execute_result"
    }
   ],
   "source": [
    "constants.exbi"
   ]
  },
  {
   "cell_type": "code",
   "execution_count": 20,
   "id": "3b61d37e",
   "metadata": {},
   "outputs": [
    {
     "data": {
      "text/plain": [
       "1180591620717411303424"
      ]
     },
     "execution_count": 20,
     "metadata": {},
     "output_type": "execute_result"
    }
   ],
   "source": [
    "constants.zebi"
   ]
  },
  {
   "cell_type": "code",
   "execution_count": 21,
   "id": "350395ce",
   "metadata": {},
   "outputs": [
    {
     "data": {
      "text/plain": [
       "1208925819614629174706176"
      ]
     },
     "execution_count": 21,
     "metadata": {},
     "output_type": "execute_result"
    }
   ],
   "source": [
    "constants.yobi"
   ]
  },
  {
   "cell_type": "markdown",
   "id": "1419346c",
   "metadata": {},
   "source": [
    "#### Mass:"
   ]
  },
  {
   "cell_type": "markdown",
   "id": "5ca74c22",
   "metadata": {},
   "source": [
    "Return the specified unit in kg (e.g. gram returns 0.001 )"
   ]
  },
  {
   "cell_type": "code",
   "execution_count": 22,
   "id": "51fc3df2",
   "metadata": {},
   "outputs": [
    {
     "data": {
      "text/plain": [
       "0.001"
      ]
     },
     "execution_count": 22,
     "metadata": {},
     "output_type": "execute_result"
    }
   ],
   "source": [
    "constants.gram"
   ]
  },
  {
   "cell_type": "code",
   "execution_count": 23,
   "id": "ff879c7a",
   "metadata": {},
   "outputs": [
    {
     "data": {
      "text/plain": [
       "1000.0"
      ]
     },
     "execution_count": 23,
     "metadata": {},
     "output_type": "execute_result"
    }
   ],
   "source": [
    "constants.metric_ton"
   ]
  },
  {
   "cell_type": "code",
   "execution_count": 24,
   "id": "8864f707",
   "metadata": {},
   "outputs": [
    {
     "data": {
      "text/plain": [
       "6.479891e-05"
      ]
     },
     "execution_count": 24,
     "metadata": {},
     "output_type": "execute_result"
    }
   ],
   "source": [
    "constants.grain"
   ]
  },
  {
   "cell_type": "code",
   "execution_count": 25,
   "id": "e61d82ab",
   "metadata": {},
   "outputs": [
    {
     "data": {
      "text/plain": [
       "0.45359236999999997"
      ]
     },
     "execution_count": 25,
     "metadata": {},
     "output_type": "execute_result"
    }
   ],
   "source": [
    "constants.lb"
   ]
  },
  {
   "cell_type": "code",
   "execution_count": 26,
   "id": "4927c1e9",
   "metadata": {},
   "outputs": [
    {
     "data": {
      "text/plain": [
       "0.45359236999999997"
      ]
     },
     "execution_count": 26,
     "metadata": {},
     "output_type": "execute_result"
    }
   ],
   "source": [
    "constants.pound"
   ]
  },
  {
   "cell_type": "code",
   "execution_count": 27,
   "id": "5e6e3dee",
   "metadata": {},
   "outputs": [
    {
     "data": {
      "text/plain": [
       "0.028349523124999998"
      ]
     },
     "execution_count": 27,
     "metadata": {},
     "output_type": "execute_result"
    }
   ],
   "source": [
    "constants.oz"
   ]
  },
  {
   "cell_type": "code",
   "execution_count": 28,
   "id": "5853ece2",
   "metadata": {},
   "outputs": [
    {
     "data": {
      "text/plain": [
       "0.028349523124999998"
      ]
     },
     "execution_count": 28,
     "metadata": {},
     "output_type": "execute_result"
    }
   ],
   "source": [
    "constants.ounce"
   ]
  },
  {
   "cell_type": "code",
   "execution_count": 29,
   "id": "bce00c17",
   "metadata": {},
   "outputs": [
    {
     "data": {
      "text/plain": [
       "6.3502931799999995"
      ]
     },
     "execution_count": 29,
     "metadata": {},
     "output_type": "execute_result"
    }
   ],
   "source": [
    "constants.stone"
   ]
  },
  {
   "cell_type": "code",
   "execution_count": 30,
   "id": "70182970",
   "metadata": {},
   "outputs": [
    {
     "data": {
      "text/plain": [
       "1016.0469088"
      ]
     },
     "execution_count": 30,
     "metadata": {},
     "output_type": "execute_result"
    }
   ],
   "source": [
    "constants.long_ton"
   ]
  },
  {
   "cell_type": "code",
   "execution_count": 31,
   "id": "14070dd9",
   "metadata": {},
   "outputs": [
    {
     "data": {
      "text/plain": [
       "907.1847399999999"
      ]
     },
     "execution_count": 31,
     "metadata": {},
     "output_type": "execute_result"
    }
   ],
   "source": [
    "constants.short_ton"
   ]
  },
  {
   "cell_type": "code",
   "execution_count": 32,
   "id": "d7e8bade",
   "metadata": {},
   "outputs": [
    {
     "data": {
      "text/plain": [
       "0.031103476799999998"
      ]
     },
     "execution_count": 32,
     "metadata": {},
     "output_type": "execute_result"
    }
   ],
   "source": [
    "constants.troy_ounce"
   ]
  },
  {
   "cell_type": "code",
   "execution_count": 33,
   "id": "c2406c87",
   "metadata": {},
   "outputs": [
    {
     "data": {
      "text/plain": [
       "0.37324172159999996"
      ]
     },
     "execution_count": 33,
     "metadata": {},
     "output_type": "execute_result"
    }
   ],
   "source": [
    "constants.troy_pound"
   ]
  },
  {
   "cell_type": "code",
   "execution_count": 34,
   "id": "98c43017",
   "metadata": {},
   "outputs": [
    {
     "data": {
      "text/plain": [
       "0.0002"
      ]
     },
     "execution_count": 34,
     "metadata": {},
     "output_type": "execute_result"
    }
   ],
   "source": [
    "constants.carat"
   ]
  },
  {
   "cell_type": "code",
   "execution_count": 35,
   "id": "92087e21",
   "metadata": {},
   "outputs": [
    {
     "data": {
      "text/plain": [
       "1.6605390666e-27"
      ]
     },
     "execution_count": 35,
     "metadata": {},
     "output_type": "execute_result"
    }
   ],
   "source": [
    "constants.atomic_mass"
   ]
  },
  {
   "cell_type": "code",
   "execution_count": 36,
   "id": "e0e6706a",
   "metadata": {},
   "outputs": [
    {
     "data": {
      "text/plain": [
       "1.6605390666e-27"
      ]
     },
     "execution_count": 36,
     "metadata": {},
     "output_type": "execute_result"
    }
   ],
   "source": [
    "constants.m_u"
   ]
  },
  {
   "cell_type": "code",
   "execution_count": 37,
   "id": "44f81f99",
   "metadata": {},
   "outputs": [
    {
     "data": {
      "text/plain": [
       "1.6605390666e-27"
      ]
     },
     "execution_count": 37,
     "metadata": {},
     "output_type": "execute_result"
    }
   ],
   "source": [
    "constants.u"
   ]
  },
  {
   "cell_type": "markdown",
   "id": "1d2245d3",
   "metadata": {},
   "source": [
    "### Angle:"
   ]
  },
  {
   "cell_type": "markdown",
   "id": "bbf634f6",
   "metadata": {},
   "source": [
    "Return the specified unit in radians (e.g. degree returns 0.017453292519943295 )"
   ]
  },
  {
   "cell_type": "code",
   "execution_count": 38,
   "id": "dc9e0e8f",
   "metadata": {},
   "outputs": [
    {
     "data": {
      "text/plain": [
       "0.017453292519943295"
      ]
     },
     "execution_count": 38,
     "metadata": {},
     "output_type": "execute_result"
    }
   ],
   "source": [
    "constants.degree"
   ]
  },
  {
   "cell_type": "code",
   "execution_count": 40,
   "id": "7efeef66",
   "metadata": {},
   "outputs": [
    {
     "data": {
      "text/plain": [
       "0.0002908882086657216"
      ]
     },
     "execution_count": 40,
     "metadata": {},
     "output_type": "execute_result"
    }
   ],
   "source": [
    "constants.arcmin"
   ]
  },
  {
   "cell_type": "code",
   "execution_count": 41,
   "id": "33b228db",
   "metadata": {},
   "outputs": [
    {
     "data": {
      "text/plain": [
       "0.0002908882086657216"
      ]
     },
     "execution_count": 41,
     "metadata": {},
     "output_type": "execute_result"
    }
   ],
   "source": [
    "constants.arcminute"
   ]
  },
  {
   "cell_type": "code",
   "execution_count": 42,
   "id": "0a3af721",
   "metadata": {},
   "outputs": [
    {
     "data": {
      "text/plain": [
       "4.84813681109536e-06"
      ]
     },
     "execution_count": 42,
     "metadata": {},
     "output_type": "execute_result"
    }
   ],
   "source": [
    "constants.arcsecond"
   ]
  },
  {
   "cell_type": "code",
   "execution_count": 43,
   "id": "1a89af6a",
   "metadata": {},
   "outputs": [
    {
     "data": {
      "text/plain": [
       "4.84813681109536e-06"
      ]
     },
     "execution_count": 43,
     "metadata": {},
     "output_type": "execute_result"
    }
   ],
   "source": [
    "constants.arcsec"
   ]
  },
  {
   "cell_type": "markdown",
   "id": "e947239a",
   "metadata": {},
   "source": [
    "#### Time :"
   ]
  },
  {
   "cell_type": "markdown",
   "id": "c36444d4",
   "metadata": {},
   "source": [
    "Return the specified unit in seconds (e.g. hour returns 3600.0 )"
   ]
  },
  {
   "cell_type": "code",
   "execution_count": 44,
   "id": "de5cf072",
   "metadata": {},
   "outputs": [
    {
     "data": {
      "text/plain": [
       "60.0"
      ]
     },
     "execution_count": 44,
     "metadata": {},
     "output_type": "execute_result"
    }
   ],
   "source": [
    "constants.minute"
   ]
  },
  {
   "cell_type": "code",
   "execution_count": 45,
   "id": "3cb9a880",
   "metadata": {},
   "outputs": [
    {
     "data": {
      "text/plain": [
       "3600.0"
      ]
     },
     "execution_count": 45,
     "metadata": {},
     "output_type": "execute_result"
    }
   ],
   "source": [
    "constants.hour"
   ]
  },
  {
   "cell_type": "code",
   "execution_count": 46,
   "id": "17bb1091",
   "metadata": {},
   "outputs": [
    {
     "data": {
      "text/plain": [
       "604800.0"
      ]
     },
     "execution_count": 46,
     "metadata": {},
     "output_type": "execute_result"
    }
   ],
   "source": [
    "constants.week"
   ]
  },
  {
   "cell_type": "code",
   "execution_count": 47,
   "id": "9a04fdad",
   "metadata": {},
   "outputs": [
    {
     "data": {
      "text/plain": [
       "86400.0"
      ]
     },
     "execution_count": 47,
     "metadata": {},
     "output_type": "execute_result"
    }
   ],
   "source": [
    "constants.day"
   ]
  },
  {
   "cell_type": "code",
   "execution_count": 48,
   "id": "d23854bf",
   "metadata": {},
   "outputs": [
    {
     "data": {
      "text/plain": [
       "31536000.0"
      ]
     },
     "execution_count": 48,
     "metadata": {},
     "output_type": "execute_result"
    }
   ],
   "source": [
    "constants.year"
   ]
  },
  {
   "cell_type": "code",
   "execution_count": 49,
   "id": "3813af61",
   "metadata": {},
   "outputs": [
    {
     "data": {
      "text/plain": [
       "31557600.0"
      ]
     },
     "execution_count": 49,
     "metadata": {},
     "output_type": "execute_result"
    }
   ],
   "source": [
    "constants.Julian_year"
   ]
  },
  {
   "cell_type": "markdown",
   "id": "78afe92d",
   "metadata": {},
   "source": [
    "Currently, the Julian calendar is 13 days behind the Gregorian calendar. So, to convert from the\n",
    "Julian calendar to the Gregorian calendar, add 13 days; to convert in the opposite direction,\n",
    "subtract 13 days. The gap between the two calendar systems will increase to 14 days in the\n",
    "year 2100.m"
   ]
  },
  {
   "cell_type": "markdown",
   "id": "fe7cda68",
   "metadata": {},
   "source": [
    "### Length:"
   ]
  },
  {
   "cell_type": "markdown",
   "id": "e651bad6",
   "metadata": {},
   "source": [
    "Return the specified unit in meters (e.g. nautical_mile returns 1852.0 )"
   ]
  },
  {
   "cell_type": "code",
   "execution_count": 50,
   "id": "10c515c4",
   "metadata": {},
   "outputs": [
    {
     "data": {
      "text/plain": [
       "0.0254"
      ]
     },
     "execution_count": 50,
     "metadata": {},
     "output_type": "execute_result"
    }
   ],
   "source": [
    "constants.inch"
   ]
  },
  {
   "cell_type": "code",
   "execution_count": 51,
   "id": "533c0d15",
   "metadata": {},
   "outputs": [
    {
     "data": {
      "text/plain": [
       "0.9143999999999999"
      ]
     },
     "execution_count": 51,
     "metadata": {},
     "output_type": "execute_result"
    }
   ],
   "source": [
    "constants.yard"
   ]
  },
  {
   "cell_type": "code",
   "execution_count": 52,
   "id": "4beca1fe",
   "metadata": {},
   "outputs": [
    {
     "data": {
      "text/plain": [
       "1609.3439999999998"
      ]
     },
     "execution_count": 52,
     "metadata": {},
     "output_type": "execute_result"
    }
   ],
   "source": [
    "constants.mile"
   ]
  },
  {
   "cell_type": "code",
   "execution_count": 53,
   "id": "f5f96c46",
   "metadata": {},
   "outputs": [
    {
     "data": {
      "text/plain": [
       "2.5399999999999997e-05"
      ]
     },
     "execution_count": 53,
     "metadata": {},
     "output_type": "execute_result"
    }
   ],
   "source": [
    "constants.mil"
   ]
  },
  {
   "cell_type": "code",
   "execution_count": 54,
   "id": "1bc34cee",
   "metadata": {},
   "outputs": [
    {
     "data": {
      "text/plain": [
       "0.00035277777777777776"
      ]
     },
     "execution_count": 54,
     "metadata": {},
     "output_type": "execute_result"
    }
   ],
   "source": [
    "constants.pt"
   ]
  },
  {
   "cell_type": "code",
   "execution_count": 55,
   "id": "6bc8f48a",
   "metadata": {},
   "outputs": [
    {
     "data": {
      "text/plain": [
       "0.00035277777777777776"
      ]
     },
     "execution_count": 55,
     "metadata": {},
     "output_type": "execute_result"
    }
   ],
   "source": [
    "constants.point"
   ]
  },
  {
   "cell_type": "code",
   "execution_count": 56,
   "id": "d20f5e54",
   "metadata": {},
   "outputs": [
    {
     "data": {
      "text/plain": [
       "0.3048006096012192"
      ]
     },
     "execution_count": 56,
     "metadata": {},
     "output_type": "execute_result"
    }
   ],
   "source": [
    "constants.survey_foot"
   ]
  },
  {
   "cell_type": "code",
   "execution_count": 57,
   "id": "7d8ae784",
   "metadata": {},
   "outputs": [
    {
     "data": {
      "text/plain": [
       "1609.3472186944373"
      ]
     },
     "execution_count": 57,
     "metadata": {},
     "output_type": "execute_result"
    }
   ],
   "source": [
    "constants.survey_mile"
   ]
  },
  {
   "cell_type": "code",
   "execution_count": 58,
   "id": "8365c5a7",
   "metadata": {},
   "outputs": [
    {
     "data": {
      "text/plain": [
       "1852.0"
      ]
     },
     "execution_count": 58,
     "metadata": {},
     "output_type": "execute_result"
    }
   ],
   "source": [
    "constants.nautical_mile"
   ]
  },
  {
   "cell_type": "code",
   "execution_count": 59,
   "id": "cd332603",
   "metadata": {},
   "outputs": [
    {
     "data": {
      "text/plain": [
       "1e-15"
      ]
     },
     "execution_count": 59,
     "metadata": {},
     "output_type": "execute_result"
    }
   ],
   "source": [
    "constants.fermi"
   ]
  },
  {
   "cell_type": "code",
   "execution_count": 60,
   "id": "d04fb6b6",
   "metadata": {},
   "outputs": [
    {
     "data": {
      "text/plain": [
       "1e-10"
      ]
     },
     "execution_count": 60,
     "metadata": {},
     "output_type": "execute_result"
    }
   ],
   "source": [
    "constants.angstrom"
   ]
  },
  {
   "cell_type": "code",
   "execution_count": 62,
   "id": "927a4a8d",
   "metadata": {},
   "outputs": [
    {
     "data": {
      "text/plain": [
       "1e-06"
      ]
     },
     "execution_count": 62,
     "metadata": {},
     "output_type": "execute_result"
    }
   ],
   "source": [
    "constants.micron"
   ]
  },
  {
   "cell_type": "code",
   "execution_count": 63,
   "id": "dc6a34f6",
   "metadata": {},
   "outputs": [
    {
     "data": {
      "text/plain": [
       "149597870700.0"
      ]
     },
     "execution_count": 63,
     "metadata": {},
     "output_type": "execute_result"
    }
   ],
   "source": [
    "constants.au"
   ]
  },
  {
   "cell_type": "code",
   "execution_count": 64,
   "id": "2c3b114d",
   "metadata": {},
   "outputs": [
    {
     "data": {
      "text/plain": [
       "149597870700.0"
      ]
     },
     "execution_count": 64,
     "metadata": {},
     "output_type": "execute_result"
    }
   ],
   "source": [
    "constants.astronomical_unit"
   ]
  },
  {
   "cell_type": "code",
   "execution_count": 65,
   "id": "17f8f77b",
   "metadata": {},
   "outputs": [
    {
     "data": {
      "text/plain": [
       "9460730472580800.0"
      ]
     },
     "execution_count": 65,
     "metadata": {},
     "output_type": "execute_result"
    }
   ],
   "source": [
    "constants.light_year"
   ]
  },
  {
   "cell_type": "code",
   "execution_count": 66,
   "id": "17848646",
   "metadata": {},
   "outputs": [
    {
     "data": {
      "text/plain": [
       "3.085677581491367e+16"
      ]
     },
     "execution_count": 66,
     "metadata": {},
     "output_type": "execute_result"
    }
   ],
   "source": [
    "constants.parsec"
   ]
  },
  {
   "cell_type": "markdown",
   "id": "c1187af1",
   "metadata": {},
   "source": [
    "### Pressure:"
   ]
  },
  {
   "cell_type": "markdown",
   "id": "92e8ac85",
   "metadata": {},
   "source": [
    "Return the specified unit in pascals (e.g. psi returns 6894.757293168361)"
   ]
  },
  {
   "cell_type": "code",
   "execution_count": 67,
   "id": "d11da0c1",
   "metadata": {},
   "outputs": [
    {
     "data": {
      "text/plain": [
       "101325.0"
      ]
     },
     "execution_count": 67,
     "metadata": {},
     "output_type": "execute_result"
    }
   ],
   "source": [
    "constants.atm"
   ]
  },
  {
   "cell_type": "code",
   "execution_count": 68,
   "id": "1868d015",
   "metadata": {},
   "outputs": [
    {
     "data": {
      "text/plain": [
       "101325.0"
      ]
     },
     "execution_count": 68,
     "metadata": {},
     "output_type": "execute_result"
    }
   ],
   "source": [
    "constants.atmosphere"
   ]
  },
  {
   "cell_type": "code",
   "execution_count": 69,
   "id": "b37c3713",
   "metadata": {},
   "outputs": [
    {
     "data": {
      "text/plain": [
       "100000.0"
      ]
     },
     "execution_count": 69,
     "metadata": {},
     "output_type": "execute_result"
    }
   ],
   "source": [
    "constants.bar"
   ]
  },
  {
   "cell_type": "code",
   "execution_count": 70,
   "id": "f21ba7fd",
   "metadata": {},
   "outputs": [
    {
     "data": {
      "text/plain": [
       "133.32236842105263"
      ]
     },
     "execution_count": 70,
     "metadata": {},
     "output_type": "execute_result"
    }
   ],
   "source": [
    "constants.torr"
   ]
  },
  {
   "cell_type": "code",
   "execution_count": 71,
   "id": "45458530",
   "metadata": {},
   "outputs": [
    {
     "data": {
      "text/plain": [
       "133.32236842105263"
      ]
     },
     "execution_count": 71,
     "metadata": {},
     "output_type": "execute_result"
    }
   ],
   "source": [
    "constants.mmHg"
   ]
  },
  {
   "cell_type": "code",
   "execution_count": 72,
   "id": "365ee222",
   "metadata": {},
   "outputs": [
    {
     "data": {
      "text/plain": [
       "6894.757293168361"
      ]
     },
     "execution_count": 72,
     "metadata": {},
     "output_type": "execute_result"
    }
   ],
   "source": [
    "constants.psi"
   ]
  },
  {
   "cell_type": "markdown",
   "id": "b3f942b7",
   "metadata": {},
   "source": [
    "### Area:"
   ]
  },
  {
   "cell_type": "markdown",
   "id": "da330457",
   "metadata": {},
   "source": [
    "Return the specified unit in square meters(e.g. hectare returns 10000.0 )"
   ]
  },
  {
   "cell_type": "code",
   "execution_count": 73,
   "id": "eb53c4b2",
   "metadata": {},
   "outputs": [
    {
     "data": {
      "text/plain": [
       "10000.0"
      ]
     },
     "execution_count": 73,
     "metadata": {},
     "output_type": "execute_result"
    }
   ],
   "source": [
    "constants.hectare"
   ]
  },
  {
   "cell_type": "code",
   "execution_count": 74,
   "id": "f87435d6",
   "metadata": {},
   "outputs": [
    {
     "data": {
      "text/plain": [
       "4046.8564223999992"
      ]
     },
     "execution_count": 74,
     "metadata": {},
     "output_type": "execute_result"
    }
   ],
   "source": [
    "constants.acre"
   ]
  },
  {
   "cell_type": "markdown",
   "id": "6a1f7ae4",
   "metadata": {},
   "source": [
    "#### Volume:"
   ]
  },
  {
   "cell_type": "markdown",
   "id": "242b15e6",
   "metadata": {},
   "source": [
    "Return the specified unit in cubic meters (e.g. lite r returns 0.001)"
   ]
  },
  {
   "cell_type": "code",
   "execution_count": 75,
   "id": "594b4164",
   "metadata": {},
   "outputs": [
    {
     "data": {
      "text/plain": [
       "0.001"
      ]
     },
     "execution_count": 75,
     "metadata": {},
     "output_type": "execute_result"
    }
   ],
   "source": [
    "constants.liter"
   ]
  },
  {
   "cell_type": "code",
   "execution_count": 76,
   "id": "9020ca2c",
   "metadata": {},
   "outputs": [
    {
     "data": {
      "text/plain": [
       "0.001"
      ]
     },
     "execution_count": 76,
     "metadata": {},
     "output_type": "execute_result"
    }
   ],
   "source": [
    "constants.litre"
   ]
  },
  {
   "cell_type": "code",
   "execution_count": 77,
   "id": "e4f8c105",
   "metadata": {},
   "outputs": [
    {
     "data": {
      "text/plain": [
       "0.0037854117839999997"
      ]
     },
     "execution_count": 77,
     "metadata": {},
     "output_type": "execute_result"
    }
   ],
   "source": [
    "constants.gallon"
   ]
  },
  {
   "cell_type": "code",
   "execution_count": 78,
   "id": "4a48cb57",
   "metadata": {},
   "outputs": [
    {
     "data": {
      "text/plain": [
       "0.00454609"
      ]
     },
     "execution_count": 78,
     "metadata": {},
     "output_type": "execute_result"
    }
   ],
   "source": [
    "constants.gallon_imp"
   ]
  },
  {
   "cell_type": "code",
   "execution_count": 79,
   "id": "f444121e",
   "metadata": {},
   "outputs": [
    {
     "data": {
      "text/plain": [
       "0.0037854117839999997"
      ]
     },
     "execution_count": 79,
     "metadata": {},
     "output_type": "execute_result"
    }
   ],
   "source": [
    "constants.gallon_US"
   ]
  },
  {
   "cell_type": "code",
   "execution_count": 80,
   "id": "0fe5ac34",
   "metadata": {},
   "outputs": [
    {
     "data": {
      "text/plain": [
       "2.9573529562499998e-05"
      ]
     },
     "execution_count": 80,
     "metadata": {},
     "output_type": "execute_result"
    }
   ],
   "source": [
    "constants.fluid_ounce"
   ]
  },
  {
   "cell_type": "code",
   "execution_count": 81,
   "id": "1f55293f",
   "metadata": {},
   "outputs": [
    {
     "data": {
      "text/plain": [
       "2.84130625e-05"
      ]
     },
     "execution_count": 81,
     "metadata": {},
     "output_type": "execute_result"
    }
   ],
   "source": [
    "constants.fluid_ounce_imp"
   ]
  },
  {
   "cell_type": "code",
   "execution_count": 82,
   "id": "dfc81948",
   "metadata": {},
   "outputs": [
    {
     "data": {
      "text/plain": [
       "2.9573529562499998e-05"
      ]
     },
     "execution_count": 82,
     "metadata": {},
     "output_type": "execute_result"
    }
   ],
   "source": [
    "constants.fluid_ounce_US"
   ]
  },
  {
   "cell_type": "code",
   "execution_count": 83,
   "id": "3c4aa2fb",
   "metadata": {},
   "outputs": [
    {
     "data": {
      "text/plain": [
       "0.15898729492799998"
      ]
     },
     "execution_count": 83,
     "metadata": {},
     "output_type": "execute_result"
    }
   ],
   "source": [
    "constants.barrel"
   ]
  },
  {
   "cell_type": "code",
   "execution_count": 84,
   "id": "4b36ce05",
   "metadata": {},
   "outputs": [
    {
     "data": {
      "text/plain": [
       "0.15898729492799998"
      ]
     },
     "execution_count": 84,
     "metadata": {},
     "output_type": "execute_result"
    }
   ],
   "source": [
    "constants.bbl"
   ]
  },
  {
   "cell_type": "markdown",
   "id": "e040df4d",
   "metadata": {},
   "source": [
    "### Speed:"
   ]
  },
  {
   "cell_type": "markdown",
   "id": "87eb9514",
   "metadata": {},
   "source": [
    "Return the specified unit in meters per second (e.g. speed_of_sound returns 340.5)"
   ]
  },
  {
   "cell_type": "code",
   "execution_count": 85,
   "id": "05c21344",
   "metadata": {},
   "outputs": [
    {
     "data": {
      "text/plain": [
       "0.2777777777777778"
      ]
     },
     "execution_count": 85,
     "metadata": {},
     "output_type": "execute_result"
    }
   ],
   "source": [
    "constants.kmh"
   ]
  },
  {
   "cell_type": "code",
   "execution_count": 86,
   "id": "f9ba6b9b",
   "metadata": {},
   "outputs": [
    {
     "data": {
      "text/plain": [
       "0.44703999999999994"
      ]
     },
     "execution_count": 86,
     "metadata": {},
     "output_type": "execute_result"
    }
   ],
   "source": [
    "constants.mph"
   ]
  },
  {
   "cell_type": "code",
   "execution_count": 87,
   "id": "c30b61fe",
   "metadata": {},
   "outputs": [
    {
     "data": {
      "text/plain": [
       "340.5"
      ]
     },
     "execution_count": 87,
     "metadata": {},
     "output_type": "execute_result"
    }
   ],
   "source": [
    "constants.mach"
   ]
  },
  {
   "cell_type": "code",
   "execution_count": 89,
   "id": "68abfe80",
   "metadata": {},
   "outputs": [
    {
     "data": {
      "text/plain": [
       "340.5"
      ]
     },
     "execution_count": 89,
     "metadata": {},
     "output_type": "execute_result"
    }
   ],
   "source": [
    "constants.speed_of_sound"
   ]
  },
  {
   "cell_type": "code",
   "execution_count": 90,
   "id": "61610361",
   "metadata": {},
   "outputs": [
    {
     "data": {
      "text/plain": [
       "0.5144444444444445"
      ]
     },
     "execution_count": 90,
     "metadata": {},
     "output_type": "execute_result"
    }
   ],
   "source": [
    "constants.knot"
   ]
  },
  {
   "cell_type": "markdown",
   "id": "a9be4aa5",
   "metadata": {},
   "source": [
    "### Temperature:"
   ]
  },
  {
   "cell_type": "markdown",
   "id": "e7c2b89b",
   "metadata": {},
   "source": [
    "Return the specified unit in Kelvin (e.g. zero_Celsiu s returns 273.15)"
   ]
  },
  {
   "cell_type": "code",
   "execution_count": 91,
   "id": "fcb74f89",
   "metadata": {},
   "outputs": [
    {
     "data": {
      "text/plain": [
       "273.15"
      ]
     },
     "execution_count": 91,
     "metadata": {},
     "output_type": "execute_result"
    }
   ],
   "source": [
    "constants.zero_Celsius"
   ]
  },
  {
   "cell_type": "code",
   "execution_count": 92,
   "id": "fb66cdec",
   "metadata": {},
   "outputs": [
    {
     "data": {
      "text/plain": [
       "0.5555555555555556"
      ]
     },
     "execution_count": 92,
     "metadata": {},
     "output_type": "execute_result"
    }
   ],
   "source": [
    "constants.degree_Fahrenheit"
   ]
  },
  {
   "cell_type": "markdown",
   "id": "2ea51f56",
   "metadata": {},
   "source": [
    "### Energy:"
   ]
  },
  {
   "cell_type": "markdown",
   "id": "3034f28c",
   "metadata": {},
   "source": [
    "Return the specified unit in joules (e.g. calorie returns 4.18 4)"
   ]
  },
  {
   "cell_type": "code",
   "execution_count": 93,
   "id": "662b9506",
   "metadata": {},
   "outputs": [
    {
     "data": {
      "text/plain": [
       "1.602176634e-19"
      ]
     },
     "execution_count": 93,
     "metadata": {},
     "output_type": "execute_result"
    }
   ],
   "source": [
    "constants.eV"
   ]
  },
  {
   "cell_type": "code",
   "execution_count": 94,
   "id": "dda5e615",
   "metadata": {},
   "outputs": [
    {
     "data": {
      "text/plain": [
       "1.602176634e-19"
      ]
     },
     "execution_count": 94,
     "metadata": {},
     "output_type": "execute_result"
    }
   ],
   "source": [
    "constants.electron_volt"
   ]
  },
  {
   "cell_type": "code",
   "execution_count": 95,
   "id": "e8c209bc",
   "metadata": {},
   "outputs": [
    {
     "data": {
      "text/plain": [
       "4.184"
      ]
     },
     "execution_count": 95,
     "metadata": {},
     "output_type": "execute_result"
    }
   ],
   "source": [
    "constants.calorie"
   ]
  },
  {
   "cell_type": "code",
   "execution_count": 97,
   "id": "ed3f5be4",
   "metadata": {},
   "outputs": [
    {
     "data": {
      "text/plain": [
       "4.184"
      ]
     },
     "execution_count": 97,
     "metadata": {},
     "output_type": "execute_result"
    }
   ],
   "source": [
    "constants.calorie_th"
   ]
  },
  {
   "cell_type": "code",
   "execution_count": 98,
   "id": "cfe70535",
   "metadata": {},
   "outputs": [
    {
     "data": {
      "text/plain": [
       "1e-07"
      ]
     },
     "execution_count": 98,
     "metadata": {},
     "output_type": "execute_result"
    }
   ],
   "source": [
    "constants.erg"
   ]
  },
  {
   "cell_type": "code",
   "execution_count": 99,
   "id": "ea4e0c03",
   "metadata": {},
   "outputs": [
    {
     "data": {
      "text/plain": [
       "1055.05585262"
      ]
     },
     "execution_count": 99,
     "metadata": {},
     "output_type": "execute_result"
    }
   ],
   "source": [
    "constants.Btu"
   ]
  },
  {
   "cell_type": "code",
   "execution_count": 100,
   "id": "770afb46",
   "metadata": {},
   "outputs": [
    {
     "data": {
      "text/plain": [
       "1055.05585262"
      ]
     },
     "execution_count": 100,
     "metadata": {},
     "output_type": "execute_result"
    }
   ],
   "source": [
    "constants.Btu_IT"
   ]
  },
  {
   "cell_type": "code",
   "execution_count": 101,
   "id": "c4914683",
   "metadata": {},
   "outputs": [
    {
     "data": {
      "text/plain": [
       "1054.3502644888888"
      ]
     },
     "execution_count": 101,
     "metadata": {},
     "output_type": "execute_result"
    }
   ],
   "source": [
    "constants.Btu_th"
   ]
  },
  {
   "cell_type": "code",
   "execution_count": 103,
   "id": "f6337267",
   "metadata": {},
   "outputs": [
    {
     "data": {
      "text/plain": [
       "4184000000.0"
      ]
     },
     "execution_count": 103,
     "metadata": {},
     "output_type": "execute_result"
    }
   ],
   "source": [
    "constants.ton_TNT"
   ]
  },
  {
   "cell_type": "markdown",
   "id": "78aa8da4",
   "metadata": {},
   "source": [
    "### Power:"
   ]
  },
  {
   "cell_type": "markdown",
   "id": "5946f206",
   "metadata": {},
   "source": [
    "Return the specified unit in watts (e.g. horsepower returns 745.6998715822701)"
   ]
  },
  {
   "cell_type": "code",
   "execution_count": 104,
   "id": "ebb994b1",
   "metadata": {},
   "outputs": [
    {
     "data": {
      "text/plain": [
       "745.6998715822701"
      ]
     },
     "execution_count": 104,
     "metadata": {},
     "output_type": "execute_result"
    }
   ],
   "source": [
    "constants.hp"
   ]
  },
  {
   "cell_type": "code",
   "execution_count": 105,
   "id": "abef6120",
   "metadata": {},
   "outputs": [
    {
     "data": {
      "text/plain": [
       "745.6998715822701"
      ]
     },
     "execution_count": 105,
     "metadata": {},
     "output_type": "execute_result"
    }
   ],
   "source": [
    "constants.horsepower"
   ]
  },
  {
   "cell_type": "markdown",
   "id": "3e6ed227",
   "metadata": {},
   "source": [
    "### Force:"
   ]
  },
  {
   "cell_type": "markdown",
   "id": "4126438c",
   "metadata": {},
   "source": [
    "Return the specified unit in newton (e.g. kilogram_forc e returns 9.80665)"
   ]
  },
  {
   "cell_type": "code",
   "execution_count": 106,
   "id": "6fa0e4ec",
   "metadata": {},
   "outputs": [
    {
     "data": {
      "text/plain": [
       "1e-05"
      ]
     },
     "execution_count": 106,
     "metadata": {},
     "output_type": "execute_result"
    }
   ],
   "source": [
    "constants.dyne"
   ]
  },
  {
   "cell_type": "code",
   "execution_count": 107,
   "id": "c36405b0",
   "metadata": {},
   "outputs": [
    {
     "data": {
      "text/plain": [
       "1e-05"
      ]
     },
     "execution_count": 107,
     "metadata": {},
     "output_type": "execute_result"
    }
   ],
   "source": [
    "constants.dyn"
   ]
  },
  {
   "cell_type": "code",
   "execution_count": 108,
   "id": "018341d3",
   "metadata": {},
   "outputs": [
    {
     "data": {
      "text/plain": [
       "4.4482216152605"
      ]
     },
     "execution_count": 108,
     "metadata": {},
     "output_type": "execute_result"
    }
   ],
   "source": [
    "constants.lbf"
   ]
  },
  {
   "cell_type": "code",
   "execution_count": 109,
   "id": "1fc8a707",
   "metadata": {},
   "outputs": [
    {
     "data": {
      "text/plain": [
       "4.4482216152605"
      ]
     },
     "execution_count": 109,
     "metadata": {},
     "output_type": "execute_result"
    }
   ],
   "source": [
    "constants.pound_force"
   ]
  },
  {
   "cell_type": "code",
   "execution_count": 110,
   "id": "0a2e0b5d",
   "metadata": {},
   "outputs": [
    {
     "data": {
      "text/plain": [
       "9.80665"
      ]
     },
     "execution_count": 110,
     "metadata": {},
     "output_type": "execute_result"
    }
   ],
   "source": [
    "constants.kgf"
   ]
  },
  {
   "cell_type": "code",
   "execution_count": 111,
   "id": "15f8e986",
   "metadata": {},
   "outputs": [
    {
     "data": {
      "text/plain": [
       "9.80665"
      ]
     },
     "execution_count": 111,
     "metadata": {},
     "output_type": "execute_result"
    }
   ],
   "source": [
    "constants.kilogram_force"
   ]
  },
  {
   "cell_type": "markdown",
   "id": "43d3486c",
   "metadata": {},
   "source": [
    "### Optimizers in SciPy"
   ]
  },
  {
   "cell_type": "markdown",
   "id": "95c6d338",
   "metadata": {},
   "source": [
    "Optimizers are a set of procedures defined in SciPy that either find the minimum value of a\n",
    "function, or the root of an equation."
   ]
  },
  {
   "cell_type": "markdown",
   "id": "83446dbc",
   "metadata": {},
   "source": [
    "### Optimizing Functions"
   ]
  },
  {
   "cell_type": "markdown",
   "id": "18a188f4",
   "metadata": {},
   "source": [
    "Essentially, all of the algorithms in Machine Learning are nothing more than a complex equation\n",
    "that needs to be minimized with the help of given data."
   ]
  },
  {
   "cell_type": "markdown",
   "id": "1fbe9773",
   "metadata": {},
   "source": [
    "Find root of the equation x + cos(x ) :"
   ]
  },
  {
   "cell_type": "code",
   "execution_count": 116,
   "id": "1ea05786",
   "metadata": {},
   "outputs": [
    {
     "name": "stdout",
     "output_type": "stream",
     "text": [
      "[-0.73908513]\n"
     ]
    }
   ],
   "source": [
    "from scipy.optimize import root\n",
    "from math import cos\n",
    "def eqn(x):\n",
    "    return x + cos(x)\n",
    "myroot = root(eqn,0)\n",
    "print(myroot.x)"
   ]
  },
  {
   "cell_type": "code",
   "execution_count": 117,
   "id": "7d190767",
   "metadata": {},
   "outputs": [
    {
     "name": "stdout",
     "output_type": "stream",
     "text": [
      " message: The solution converged.\n",
      " success: True\n",
      "  status: 1\n",
      "     fun: [ 0.000e+00]\n",
      "       x: [-7.391e-01]\n",
      "    nfev: 9\n",
      "    fjac: [[-1.000e+00]]\n",
      "       r: [-1.674e+00]\n",
      "     qtf: [-2.668e-13]\n"
     ]
    }
   ],
   "source": [
    "print(myroot)"
   ]
  },
  {
   "cell_type": "markdown",
   "id": "e16b96aa",
   "metadata": {},
   "source": [
    "### SciPy Statistical Significance Tests"
   ]
  },
  {
   "cell_type": "markdown",
   "id": "ab89fc8b",
   "metadata": {},
   "source": [
    "In statistics, statistical significance means that the result that was produced has a reason behind\n",
    "it, it was not produced randomly, or by chance. SciPy provides us with a module called\n",
    "scipy.stats , which has functions for performing statistical significance tests."
   ]
  },
  {
   "cell_type": "markdown",
   "id": "233d77c7",
   "metadata": {},
   "source": [
    "### T-test"
   ]
  },
  {
   "cell_type": "markdown",
   "id": "bf605965",
   "metadata": {},
   "source": [
    "T-tests are used to determine if there is significant deference between means of two variables.\n",
    "and lets us know if they belong to the same distribution. It is a two tailed test. The function\n",
    "ttest_ind( ) takes two samples of same size and produces a tuple of t-statistic and p-value."
   ]
  },
  {
   "cell_type": "code",
   "execution_count": 119,
   "id": "c1ae4fb8",
   "metadata": {},
   "outputs": [
    {
     "name": "stdout",
     "output_type": "stream",
     "text": [
      "Ttest_indResult(statistic=-0.3165953193176246, pvalue=0.751884222188504)\n"
     ]
    }
   ],
   "source": [
    "from scipy.stats import ttest_ind\n",
    "v1 = np.random.normal(size = 100)\n",
    "v2 = np.random.normal(size = 100)\n",
    "res = ttest_ind(v1,v2)\n",
    "print(res)"
   ]
  },
  {
   "cell_type": "markdown",
   "id": "a16d23fc",
   "metadata": {},
   "source": [
    "### For displaying only p-value;"
   ]
  },
  {
   "cell_type": "code",
   "execution_count": 121,
   "id": "381231b0",
   "metadata": {},
   "outputs": [
    {
     "name": "stdout",
     "output_type": "stream",
     "text": [
      "0.751884222188504\n"
     ]
    }
   ],
   "source": [
    "res = ttest_ind(v1,v2).pvalue\n",
    "print(res)"
   ]
  },
  {
   "cell_type": "markdown",
   "id": "9508b3bf",
   "metadata": {},
   "source": [
    "### KS Test (One Sample Kolmogorov Smirnov)"
   ]
  },
  {
   "cell_type": "markdown",
   "id": "7e5bc4a2",
   "metadata": {},
   "source": [
    "KS test is used to check if given values follow a distribution."
   ]
  },
  {
   "cell_type": "code",
   "execution_count": 123,
   "id": "64a34fc0",
   "metadata": {},
   "outputs": [
    {
     "name": "stdout",
     "output_type": "stream",
     "text": [
      "KstestResult(statistic=0.13029857163547298, pvalue=0.06111729465834015, statistic_location=0.025817558662906064, statistic_sign=-1)\n"
     ]
    }
   ],
   "source": [
    "from scipy.stats import kstest\n",
    "v = np.random.normal(size = 100)\n",
    "res = kstest(v,'norm')\n",
    "print(res)"
   ]
  },
  {
   "cell_type": "markdown",
   "id": "2c7d2f72",
   "metadata": {},
   "source": [
    "### Statistical Description of Data"
   ]
  },
  {
   "cell_type": "markdown",
   "id": "adc3f5a1",
   "metadata": {},
   "source": [
    "In order to see a summary of values in an array, we can use the describe( ) function. It returns\n",
    "the following description:"
   ]
  },
  {
   "cell_type": "markdown",
   "id": "20d456e8",
   "metadata": {},
   "source": [
    "1. number of observations (nobs)\n",
    "2. minimum and maximum values = minmax\n",
    "3. mean\n",
    "4. variance\n",
    "5. skewness\n",
    "6. kurtosis"
   ]
  },
  {
   "cell_type": "code",
   "execution_count": 126,
   "id": "a02bcb24",
   "metadata": {},
   "outputs": [
    {
     "name": "stdout",
     "output_type": "stream",
     "text": [
      "-0.08766553710176733\n",
      "-0.3861279341711388\n"
     ]
    }
   ],
   "source": [
    "from scipy.stats import skew,kurtosis\n",
    "v = np.random.normal(size =100)\n",
    "print(skew(v))\n",
    "print(kurtosis(v))"
   ]
  },
  {
   "cell_type": "markdown",
   "id": "98f1b560",
   "metadata": {},
   "source": [
    "### Find if the data comes from a normal distribution:"
   ]
  },
  {
   "cell_type": "code",
   "execution_count": 127,
   "id": "cb81c759",
   "metadata": {},
   "outputs": [
    {
     "name": "stdout",
     "output_type": "stream",
     "text": [
      "NormaltestResult(statistic=1.360352024109808, pvalue=0.5065278295148125)\n"
     ]
    }
   ],
   "source": [
    "from scipy.stats import normaltest\n",
    "v = np.random.normal(size=100)\n",
    "print(normaltest(v))"
   ]
  }
 ],
 "metadata": {
  "kernelspec": {
   "display_name": "Python 3 (ipykernel)",
   "language": "python",
   "name": "python3"
  },
  "language_info": {
   "codemirror_mode": {
    "name": "ipython",
    "version": 3
   },
   "file_extension": ".py",
   "mimetype": "text/x-python",
   "name": "python",
   "nbconvert_exporter": "python",
   "pygments_lexer": "ipython3",
   "version": "3.10.9"
  }
 },
 "nbformat": 4,
 "nbformat_minor": 5
}
